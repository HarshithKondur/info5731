{
  "nbformat": 4,
  "nbformat_minor": 0,
  "metadata": {
    "colab": {
      "name": "classwork03-text-classification-on-IMDB-sample",
      "version": "0.3.2",
      "provenance": [],
      "collapsed_sections": [],
      "toc_visible": true
    },
    "kernelspec": {
      "name": "python3",
      "display_name": "Python 3"
    }
  },
  "cells": [
    {
      "metadata": {
        "id": "pYrY2Fl1pvwx",
        "colab_type": "text"
      },
      "cell_type": "markdown",
      "source": [
        "# Class work 3: Text Classification on IMDB review samples"
      ]
    },
    {
      "metadata": {
        "id": "fx6U7fk7sRz-",
        "colab_type": "text"
      },
      "cell_type": "markdown",
      "source": [
        "## Data loading"
      ]
    },
    {
      "metadata": {
        "id": "pkoTrpCUpeCz",
        "colab_type": "text"
      },
      "cell_type": "markdown",
      "source": [
        "**Question 1: (10 points)**\n",
        "\n",
        "Go to [this link](https://unt.instructure.com/courses/12025/files/2443720/download?download_frd=1) to download the data file and upload it to Google Colab. And then run the following commands:"
      ]
    },
    {
      "metadata": {
        "id": "NIK8xVzmsR0C",
        "colab_type": "code",
        "colab": {}
      },
      "cell_type": "code",
      "source": [
        "import pickle"
      ],
      "execution_count": 0,
      "outputs": []
    },
    {
      "metadata": {
        "id": "egds4jV6sR0K",
        "colab_type": "code",
        "colab": {}
      },
      "cell_type": "code",
      "source": [
        "with open('imdb-review.pickle', 'rb') as f:\n",
        "    train, test = pickle.load(f)"
      ],
      "execution_count": 0,
      "outputs": []
    },
    {
      "metadata": {
        "id": "uouUbO1_s0Tj",
        "colab_type": "code",
        "colab": {
          "base_uri": "https://localhost:8080/",
          "height": 204
        },
        "outputId": "cd2b6c2f-02c0-4220-80e7-40a747abb183"
      },
      "cell_type": "code",
      "source": [
        "train.head()"
      ],
      "execution_count": 6,
      "outputs": [
        {
          "output_type": "execute_result",
          "data": {
            "text/html": [
              "<div>\n",
              "<style scoped>\n",
              "    .dataframe tbody tr th:only-of-type {\n",
              "        vertical-align: middle;\n",
              "    }\n",
              "\n",
              "    .dataframe tbody tr th {\n",
              "        vertical-align: top;\n",
              "    }\n",
              "\n",
              "    .dataframe thead th {\n",
              "        text-align: right;\n",
              "    }\n",
              "</style>\n",
              "<table border=\"1\" class=\"dataframe\">\n",
              "  <thead>\n",
              "    <tr style=\"text-align: right;\">\n",
              "      <th></th>\n",
              "      <th>text</th>\n",
              "      <th>sentiment</th>\n",
              "    </tr>\n",
              "  </thead>\n",
              "  <tbody>\n",
              "    <tr>\n",
              "      <th>0</th>\n",
              "      <td>For a movie that gets no respect there sure ar...</td>\n",
              "      <td>1</td>\n",
              "    </tr>\n",
              "    <tr>\n",
              "      <th>1</th>\n",
              "      <td>Bizarre horror movie filled with famous faces ...</td>\n",
              "      <td>1</td>\n",
              "    </tr>\n",
              "    <tr>\n",
              "      <th>2</th>\n",
              "      <td>A solid, if unremarkable film. Matthau, as Ein...</td>\n",
              "      <td>1</td>\n",
              "    </tr>\n",
              "    <tr>\n",
              "      <th>3</th>\n",
              "      <td>It's a strange feeling to sit alone in a theat...</td>\n",
              "      <td>1</td>\n",
              "    </tr>\n",
              "    <tr>\n",
              "      <th>4</th>\n",
              "      <td>You probably all already know this by now, but...</td>\n",
              "      <td>1</td>\n",
              "    </tr>\n",
              "  </tbody>\n",
              "</table>\n",
              "</div>"
            ],
            "text/plain": [
              "                                                text  sentiment\n",
              "0  For a movie that gets no respect there sure ar...          1\n",
              "1  Bizarre horror movie filled with famous faces ...          1\n",
              "2  A solid, if unremarkable film. Matthau, as Ein...          1\n",
              "3  It's a strange feeling to sit alone in a theat...          1\n",
              "4  You probably all already know this by now, but...          1"
            ]
          },
          "metadata": {
            "tags": []
          },
          "execution_count": 6
        }
      ]
    },
    {
      "metadata": {
        "id": "dxo7XSyQtfHC",
        "colab_type": "text"
      },
      "cell_type": "markdown",
      "source": [
        "You should see the output like this:"
      ]
    },
    {
      "metadata": {
        "id": "JRliFWuvj6nX",
        "colab_type": "text"
      },
      "cell_type": "markdown",
      "source": [
        ""
      ]
    },
    {
      "metadata": {
        "id": "T1jOySWDti2p",
        "colab_type": "text"
      },
      "cell_type": "markdown",
      "source": [
        "![](https://github.com/wshuyi/github_pub_img/raw/master/assets/2019-03-25-21-22-19-073406.png)"
      ]
    },
    {
      "metadata": {
        "id": "i9Vi5TQRsR0P",
        "colab_type": "text"
      },
      "cell_type": "markdown",
      "source": [
        "## sampling\n"
      ]
    },
    {
      "metadata": {
        "id": "eXQ2iWF2sR0Q",
        "colab_type": "text"
      },
      "cell_type": "markdown",
      "source": [
        "**Question 2: (10 points)**\n",
        "\n",
        "Sample **2000** rows from original training set. 1000 positive, 1000 negative. To keep all your result identical, please use **`random_state=1`** while sampling. Reset the index of generated data frame, and save it to **`train`**. (Hint: you can refer to[ this document](https://pandas.pydata.org/pandas-docs/stable/reference/api/pandas.DataFrame.sample.html).)\n",
        "\n",
        "\n",
        "\n",
        "\n"
      ]
    },
    {
      "metadata": {
        "id": "AlGynFk0sR0S",
        "colab_type": "code",
        "colab": {
          "base_uri": "https://localhost:8080/",
          "height": 1105
        },
        "outputId": "8975f7dc-a21c-47b1-aa30-b8e70036318a"
      },
      "cell_type": "code",
      "source": [
        "train.sample"
      ],
      "execution_count": 81,
      "outputs": [
        {
          "output_type": "execute_result",
          "data": {
            "text/plain": [
              "<bound method NDFrame.sample of                                                   text  sentiment\n",
              "0    I have watched this episode more often than an...          1\n",
              "1    As many reviewers here have noted, the film ve...          1\n",
              "2    At first,this movie seems so bad that i almost...          1\n",
              "3    Was this based on a comic-book? A video-game? ...          1\n",
              "4    Melissa Joan Hart shines! This show is amazing...          1\n",
              "5    So this made for TV film scores only a 7.6 on ...          1\n",
              "6    me and my sister use to rent this every time w...          1\n",
              "7    \"THINGS TO COME\" Movie Review by kWRice<br /><...          1\n",
              "8    When the British Film Institute asked Martin S...          1\n",
              "9    Okay. Yes, this was a very-tight-budget movie ...          1\n",
              "10   One of the most nihilistic and brutal films I'...          1\n",
              "11   I find myself comparing all stand-up acts to t...          1\n",
              "12   no movie with dennis hopper, gary busey, erika...          1\n",
              "13   Amazing acting, music. A simple and clear plot...          1\n",
              "14   Bruce Almighty is the best Jim Carrey work sin...          1\n",
              "15   For those that were interested in knowing how ...          1\n",
              "16   What happens when someone has so much social a...          1\n",
              "17   I watched this movie once and might watch it a...          1\n",
              "18   Slaughter High is about a boy named Marty. He ...          1\n",
              "19   Mean-spirited, ugly, nasty retro-action thrill...          1\n",
              "20   Went to see this finnish film and I've got to ...          1\n",
              "21   THis was a hilarious movie and I would see it ...          1\n",
              "22   I really enjoyed The 60's. Not being of that g...          1\n",
              "23   This is the French and Belgians doing what the...          1\n",
              "24   OK where do i begin?... This movie changed my ...          1\n",
              "25   Back in the forties, when movies touched on ma...          1\n",
              "26   Girlfight is like your grandmother's cooking: ...          1\n",
              "27   Those who love Elivra as I did in her late nig...          1\n",
              "28   If you want to be cynical and pedantic you cou...          1\n",
              "29   Well, if you are looking for a great mind cont...          1\n",
              "..                                                 ...        ...\n",
              "970  Sequels have a nasty habit of being disappoint...          0\n",
              "971  Look, I loved the PROPER Anchorman film, but t...          0\n",
              "972  Beyond dirt cheap, this shot-on-video exercise...          0\n",
              "973  Even if you subscribe to the knee-jerk anti-fr...          0\n",
              "974  After eight Moto films the series had run its ...          0\n",
              "975  Usually, I know after the first minute of a mo...          0\n",
              "976  Kid found as a baby in the garbage and raised ...          0\n",
              "977  This was a popular movie probably because of t...          0\n",
              "978  Marilyn Miller made only three films before he...          0\n",
              "979  Hunters chase what they think is a man through...          0\n",
              "980  Does anything at all happen in this movie. The...          0\n",
              "981  Wes Craven, you are having a laugh... at our e...          0\n",
              "982  Outside of the fact that George Lopez is a pre...          0\n",
              "983  I wouldn't rent this one even on dollar rental...          0\n",
              "984  Pretty bad movie offers nothing new. The usual...          0\n",
              "985  Beaudray Demerille(a weak Peter Fonda, who als...          0\n",
              "986  A lot of themes or parts of the story is the s...          0\n",
              "987  This time we get a psycho toy maker named \"Joe...          0\n",
              "988  Vijay Krishna Acharya's 'Tashan' is a over-hyp...          0\n",
              "989  I like Goldie Hawn and wanted another one of h...          0\n",
              "990  I am still shuddering at the thought of EVER s...          0\n",
              "991  I'm just quite disappointed with \"Soul Survivo...          0\n",
              "992  In director Eric Stanze's 'ISOYC, IPOYG', thre...          0\n",
              "993  First off I really enjoyed Zombi 2 by Lucio Fu...          0\n",
              "994  An unpleasant woman and an equally unpleasant ...          0\n",
              "995  I recently saw this at the 2009 Palm Springs I...          0\n",
              "996  This is one of those films that I remember bei...          0\n",
              "997  Okay... it seems like so far, only the Barman ...          0\n",
              "998  Well, what can you say about sitcoms. There of...          0\n",
              "999  This really doesn't do the blues justice. It s...          0\n",
              "\n",
              "[1000 rows x 2 columns]>"
            ]
          },
          "metadata": {
            "tags": []
          },
          "execution_count": 81
        }
      ]
    },
    {
      "metadata": {
        "id": "rMZyGDpsywZG",
        "colab_type": "code",
        "colab": {
          "base_uri": "https://localhost:8080/",
          "height": 337
        },
        "outputId": "7cd1dd5f-dd3f-4cec-8044-b11942fe44f7"
      },
      "cell_type": "code",
      "source": [
        "df = train.sample(2000,random_state=1)"
      ],
      "execution_count": 82,
      "outputs": [
        {
          "output_type": "error",
          "ename": "ValueError",
          "evalue": "ignored",
          "traceback": [
            "\u001b[0;31m---------------------------------------------------------------------------\u001b[0m",
            "\u001b[0;31mValueError\u001b[0m                                Traceback (most recent call last)",
            "\u001b[0;32m<ipython-input-82-22cd6b4d1857>\u001b[0m in \u001b[0;36m<module>\u001b[0;34m()\u001b[0m\n\u001b[0;32m----> 1\u001b[0;31m \u001b[0mdf\u001b[0m \u001b[0;34m=\u001b[0m \u001b[0mtrain\u001b[0m\u001b[0;34m.\u001b[0m\u001b[0msample\u001b[0m\u001b[0;34m(\u001b[0m\u001b[0;36m2000\u001b[0m\u001b[0;34m,\u001b[0m\u001b[0mrandom_state\u001b[0m\u001b[0;34m=\u001b[0m\u001b[0;36m1\u001b[0m\u001b[0;34m)\u001b[0m\u001b[0;34m\u001b[0m\u001b[0;34m\u001b[0m\u001b[0m\n\u001b[0m",
            "\u001b[0;32m/usr/local/lib/python3.6/dist-packages/pandas/core/generic.py\u001b[0m in \u001b[0;36msample\u001b[0;34m(self, n, frac, replace, weights, random_state, axis)\u001b[0m\n\u001b[1;32m   3439\u001b[0m                              \"provide positive value.\")\n\u001b[1;32m   3440\u001b[0m \u001b[0;34m\u001b[0m\u001b[0m\n\u001b[0;32m-> 3441\u001b[0;31m         \u001b[0mlocs\u001b[0m \u001b[0;34m=\u001b[0m \u001b[0mrs\u001b[0m\u001b[0;34m.\u001b[0m\u001b[0mchoice\u001b[0m\u001b[0;34m(\u001b[0m\u001b[0maxis_length\u001b[0m\u001b[0;34m,\u001b[0m \u001b[0msize\u001b[0m\u001b[0;34m=\u001b[0m\u001b[0mn\u001b[0m\u001b[0;34m,\u001b[0m \u001b[0mreplace\u001b[0m\u001b[0;34m=\u001b[0m\u001b[0mreplace\u001b[0m\u001b[0;34m,\u001b[0m \u001b[0mp\u001b[0m\u001b[0;34m=\u001b[0m\u001b[0mweights\u001b[0m\u001b[0;34m)\u001b[0m\u001b[0;34m\u001b[0m\u001b[0;34m\u001b[0m\u001b[0m\n\u001b[0m\u001b[1;32m   3442\u001b[0m         \u001b[0;32mreturn\u001b[0m \u001b[0mself\u001b[0m\u001b[0;34m.\u001b[0m\u001b[0mtake\u001b[0m\u001b[0;34m(\u001b[0m\u001b[0mlocs\u001b[0m\u001b[0;34m,\u001b[0m \u001b[0maxis\u001b[0m\u001b[0;34m=\u001b[0m\u001b[0maxis\u001b[0m\u001b[0;34m,\u001b[0m \u001b[0mis_copy\u001b[0m\u001b[0;34m=\u001b[0m\u001b[0;32mFalse\u001b[0m\u001b[0;34m)\u001b[0m\u001b[0;34m\u001b[0m\u001b[0;34m\u001b[0m\u001b[0m\n\u001b[1;32m   3443\u001b[0m \u001b[0;34m\u001b[0m\u001b[0m\n",
            "\u001b[0;32mmtrand.pyx\u001b[0m in \u001b[0;36mmtrand.RandomState.choice\u001b[0;34m()\u001b[0m\n",
            "\u001b[0;31mValueError\u001b[0m: Cannot take a larger sample than population when 'replace=False'"
          ]
        }
      ]
    },
    {
      "metadata": {
        "id": "VWtvPqj5sR0X",
        "colab_type": "code",
        "colab": {
          "base_uri": "https://localhost:8080/",
          "height": 204
        },
        "outputId": "0cceae55-258a-42c2-ced6-1043ae0ea770"
      },
      "cell_type": "code",
      "source": [
        "train.head()"
      ],
      "execution_count": 64,
      "outputs": [
        {
          "output_type": "execute_result",
          "data": {
            "text/html": [
              "<div>\n",
              "<style scoped>\n",
              "    .dataframe tbody tr th:only-of-type {\n",
              "        vertical-align: middle;\n",
              "    }\n",
              "\n",
              "    .dataframe tbody tr th {\n",
              "        vertical-align: top;\n",
              "    }\n",
              "\n",
              "    .dataframe thead th {\n",
              "        text-align: right;\n",
              "    }\n",
              "</style>\n",
              "<table border=\"1\" class=\"dataframe\">\n",
              "  <thead>\n",
              "    <tr style=\"text-align: right;\">\n",
              "      <th></th>\n",
              "      <th>text</th>\n",
              "      <th>sentiment</th>\n",
              "    </tr>\n",
              "  </thead>\n",
              "  <tbody>\n",
              "    <tr>\n",
              "      <th>0</th>\n",
              "      <td>I have watched this episode more often than an...</td>\n",
              "      <td>1</td>\n",
              "    </tr>\n",
              "    <tr>\n",
              "      <th>1</th>\n",
              "      <td>As many reviewers here have noted, the film ve...</td>\n",
              "      <td>1</td>\n",
              "    </tr>\n",
              "    <tr>\n",
              "      <th>2</th>\n",
              "      <td>At first,this movie seems so bad that i almost...</td>\n",
              "      <td>1</td>\n",
              "    </tr>\n",
              "    <tr>\n",
              "      <th>3</th>\n",
              "      <td>Was this based on a comic-book? A video-game? ...</td>\n",
              "      <td>1</td>\n",
              "    </tr>\n",
              "    <tr>\n",
              "      <th>4</th>\n",
              "      <td>Melissa Joan Hart shines! This show is amazing...</td>\n",
              "      <td>1</td>\n",
              "    </tr>\n",
              "  </tbody>\n",
              "</table>\n",
              "</div>"
            ],
            "text/plain": [
              "                                                text  sentiment\n",
              "0  I have watched this episode more often than an...          1\n",
              "1  As many reviewers here have noted, the film ve...          1\n",
              "2  At first,this movie seems so bad that i almost...          1\n",
              "3  Was this based on a comic-book? A video-game? ...          1\n",
              "4  Melissa Joan Hart shines! This show is amazing...          1"
            ]
          },
          "metadata": {
            "tags": []
          },
          "execution_count": 64
        }
      ]
    },
    {
      "metadata": {
        "colab_type": "text",
        "id": "VLBE4y9VuoJW"
      },
      "cell_type": "markdown",
      "source": [
        "You should see the output like this:\n",
        "\n",
        "![](https://github.com/wshuyi/github_pub_img/raw/master/assets/2019-03-25-21-22-32-893523.png)"
      ]
    },
    {
      "metadata": {
        "id": "WQrxhyIzsR0e",
        "colab_type": "code",
        "colab": {
          "base_uri": "https://localhost:8080/",
          "height": 204
        },
        "outputId": "bcf17c56-78c8-4df3-b332-7ac988e583d0"
      },
      "cell_type": "code",
      "source": [
        "train.tail()"
      ],
      "execution_count": 65,
      "outputs": [
        {
          "output_type": "execute_result",
          "data": {
            "text/html": [
              "<div>\n",
              "<style scoped>\n",
              "    .dataframe tbody tr th:only-of-type {\n",
              "        vertical-align: middle;\n",
              "    }\n",
              "\n",
              "    .dataframe tbody tr th {\n",
              "        vertical-align: top;\n",
              "    }\n",
              "\n",
              "    .dataframe thead th {\n",
              "        text-align: right;\n",
              "    }\n",
              "</style>\n",
              "<table border=\"1\" class=\"dataframe\">\n",
              "  <thead>\n",
              "    <tr style=\"text-align: right;\">\n",
              "      <th></th>\n",
              "      <th>text</th>\n",
              "      <th>sentiment</th>\n",
              "    </tr>\n",
              "  </thead>\n",
              "  <tbody>\n",
              "    <tr>\n",
              "      <th>995</th>\n",
              "      <td>I recently saw this at the 2009 Palm Springs I...</td>\n",
              "      <td>0</td>\n",
              "    </tr>\n",
              "    <tr>\n",
              "      <th>996</th>\n",
              "      <td>This is one of those films that I remember bei...</td>\n",
              "      <td>0</td>\n",
              "    </tr>\n",
              "    <tr>\n",
              "      <th>997</th>\n",
              "      <td>Okay... it seems like so far, only the Barman ...</td>\n",
              "      <td>0</td>\n",
              "    </tr>\n",
              "    <tr>\n",
              "      <th>998</th>\n",
              "      <td>Well, what can you say about sitcoms. There of...</td>\n",
              "      <td>0</td>\n",
              "    </tr>\n",
              "    <tr>\n",
              "      <th>999</th>\n",
              "      <td>This really doesn't do the blues justice. It s...</td>\n",
              "      <td>0</td>\n",
              "    </tr>\n",
              "  </tbody>\n",
              "</table>\n",
              "</div>"
            ],
            "text/plain": [
              "                                                  text  sentiment\n",
              "995  I recently saw this at the 2009 Palm Springs I...          0\n",
              "996  This is one of those films that I remember bei...          0\n",
              "997  Okay... it seems like so far, only the Barman ...          0\n",
              "998  Well, what can you say about sitcoms. There of...          0\n",
              "999  This really doesn't do the blues justice. It s...          0"
            ]
          },
          "metadata": {
            "tags": []
          },
          "execution_count": 65
        }
      ]
    },
    {
      "metadata": {
        "colab_type": "text",
        "id": "oaIig18au7xw"
      },
      "cell_type": "markdown",
      "source": [
        "You should see the output like this:\n",
        "\n",
        "![](https://github.com/wshuyi/github_pub_img/raw/master/assets/2019-03-25-21-22-52-059518.png)"
      ]
    },
    {
      "metadata": {
        "id": "4jAiC2TSvXXT",
        "colab_type": "text"
      },
      "cell_type": "markdown",
      "source": [
        "**Question 3: (10 points)**\n",
        "\n",
        "Sample **1000** rows from original test set. 500 positive, 500 negative. To keep all your result identical, please use **`random_state=1`** while sampling. Reset the index of generated data frame, and save it to **`test`**. (Hint: you can refer to[ this document](https://pandas.pydata.org/pandas-docs/stable/reference/api/pandas.DataFrame.sample.html).)\n",
        "\n",
        "\n",
        "\n",
        "\n",
        "\n",
        "\n"
      ]
    },
    {
      "metadata": {
        "colab_type": "code",
        "id": "oP6mMOnvzS6L",
        "colab": {
          "base_uri": "https://localhost:8080/",
          "height": 1105
        },
        "outputId": "e5d3bfa3-f4dd-41f9-bb8f-03ac0bf8e907"
      },
      "cell_type": "code",
      "source": [
        "test.sample"
      ],
      "execution_count": 50,
      "outputs": [
        {
          "output_type": "execute_result",
          "data": {
            "text/plain": [
              "<bound method NDFrame.sample of                                                     text  sentiment\n",
              "0      Based on an actual story, John Boorman shows t...          1\n",
              "1      This is a gem. As a Film Four production - the...          1\n",
              "2      I really like this show. It has drama, romance...          1\n",
              "3      This is the best 3-D experience Disney has at ...          1\n",
              "4      Of the Korean movies I've seen, only three had...          1\n",
              "5      this movie is funny funny funny my favorite qu...          1\n",
              "6      I'm just starting to explore the so far wonder...          1\n",
              "7      There is no need for me to repeat the synopsis...          1\n",
              "8      I got this movie with my BBC \"Jane Austen Coll...          1\n",
              "9      This was a great movie, I would compare it to ...          1\n",
              "10     I absolutely fell in love with this girls. let...          1\n",
              "11     It started off weird, the middle was weird, an...          1\n",
              "12     If you like silly comedies like Airplane you'l...          1\n",
              "13     The Italian Job requires daylight hours and no...          1\n",
              "14     I watch a lot of movies - DVD, features, and c...          1\n",
              "15     In the future, a disparate group of people asl...          1\n",
              "16     I am really amazed how little fame this film h...          1\n",
              "17     \"Tale of Two Sisters\" has to be one of the cre...          1\n",
              "18     Assy McGee is a show that you really have to b...          1\n",
              "19     This is a great horror movie. Great Plot. And ...          1\n",
              "20     When I first saw the Premiere Episode of Farsc...          1\n",
              "21     There were a lot of dumb teenage getting sex m...          1\n",
              "22     Damien O'Donnell has a good track record and i...          1\n",
              "23     THE ENGLISH PATIENT not only has it all (doome...          1\n",
              "24     cool flick. enjoyable to watch. hope to see mo...          1\n",
              "25     The movie was very good. I'm an avid mystery f...          1\n",
              "26     I have just finished watching this film for th...          1\n",
              "27     This movie from what I remember was such a gre...          1\n",
              "28     The movie takes place during the year 1940 and...          1\n",
              "29     The Cure is a fantastic film about a boy with ...          1\n",
              "...                                                  ...        ...\n",
              "24970  Would someone explain to me when the Ghoulies ...          0\n",
              "24971  I watched this movie at a party, we were very ...          0\n",
              "24972  ...the first? Killjoy 1. But here's the review...          0\n",
              "24973  It´s long time that I and my wife didn´t see s...          0\n",
              "24974  After seeing the TV commercials for this film ...          0\n",
              "24975  Why is it that such \"romantic\" movies that nev...          0\n",
              "24976  Well, here we have a zombie movie that perhaps...          0\n",
              "24977  The horrific production doesn't qualify as a \"...          0\n",
              "24978  I agree that this film is too pretentious, and...          0\n",
              "24979  On one Thursday evening at 10:00pm, my local w...          0\n",
              "24980  A dark, yet humorous tale involving a cop who ...          0\n",
              "24981  Okay, I'm sorry to the cast and crew for this ...          0\n",
              "24982  So many bad reviewers, it made me wonder, what...          0\n",
              "24983  This show lasted for most of the 1980s, and ha...          0\n",
              "24984  Movie based on Jacqueline Susann's best-sellin...          0\n",
              "24985  Pauline Kael gave this movie a good review but...          0\n",
              "24986  There must have been a lot of background info ...          0\n",
              "24987  This is the worst movie I have seen to date. 8...          0\n",
              "24988  My friends and I rented this movie mistaking i...          0\n",
              "24989  I am a huge Randolph Scott fan, so I was surpr...          0\n",
              "24990  Loving the Andersen fairy tails as a child and...          0\n",
              "24991  Like a lot of people, I loved the original; \"A...          0\n",
              "24992  I won't lie, I rented this film because it was...          0\n",
              "24993  This movie should have been called \"The Eyes o...          0\n",
              "24994  There are places for political commentary in f...          0\n",
              "24995  With actors like Depardieu and Richard it is r...          0\n",
              "24996  If you like to get a couple of fleeting glimps...          0\n",
              "24997  When something can be anything you want it to ...          0\n",
              "24998  I had heard good things about \"States of Grace...          0\n",
              "24999  Well, this movie actually did have one redeemi...          0\n",
              "\n",
              "[25000 rows x 2 columns]>"
            ]
          },
          "metadata": {
            "tags": []
          },
          "execution_count": 50
        }
      ]
    },
    {
      "metadata": {
        "id": "IFV6iBphvqhM",
        "colab_type": "code",
        "colab": {}
      },
      "cell_type": "code",
      "source": [
        "df=test.sample(1000,random_state=1)"
      ],
      "execution_count": 0,
      "outputs": []
    },
    {
      "metadata": {
        "id": "4X-dY6RJv4yN",
        "colab_type": "code",
        "colab": {
          "base_uri": "https://localhost:8080/",
          "height": 68
        },
        "outputId": "b311f29d-ee51-4e78-de8c-2eeefa1e35d3"
      },
      "cell_type": "code",
      "source": [
        "df.sentiment.value_counts()"
      ],
      "execution_count": 52,
      "outputs": [
        {
          "output_type": "execute_result",
          "data": {
            "text/plain": [
              "1    516\n",
              "0    484\n",
              "Name: sentiment, dtype: int64"
            ]
          },
          "metadata": {
            "tags": []
          },
          "execution_count": 52
        }
      ]
    },
    {
      "metadata": {
        "id": "D1axuXWlv9Sk",
        "colab_type": "code",
        "colab": {}
      },
      "cell_type": "code",
      "source": [
        "import pandas as pd\n"
      ],
      "execution_count": 0,
      "outputs": []
    },
    {
      "metadata": {
        "id": "1Pz4tmdlwBtC",
        "colab_type": "code",
        "colab": {}
      },
      "cell_type": "code",
      "source": [
        "df = pd.concat([test[train.sentiment==1].sample(500,random_state=1),test[test.sentiment==0].sample(500,random_state=1)])"
      ],
      "execution_count": 0,
      "outputs": []
    },
    {
      "metadata": {
        "id": "hyIw3PX0wMyx",
        "colab_type": "code",
        "colab": {
          "base_uri": "https://localhost:8080/",
          "height": 1969
        },
        "outputId": "439506bb-92fe-45cc-b9a1-aafaae37a512"
      },
      "cell_type": "code",
      "source": [
        "df.reset_index(drop=True)"
      ],
      "execution_count": 55,
      "outputs": [
        {
          "output_type": "execute_result",
          "data": {
            "text/html": [
              "<div>\n",
              "<style scoped>\n",
              "    .dataframe tbody tr th:only-of-type {\n",
              "        vertical-align: middle;\n",
              "    }\n",
              "\n",
              "    .dataframe tbody tr th {\n",
              "        vertical-align: top;\n",
              "    }\n",
              "\n",
              "    .dataframe thead th {\n",
              "        text-align: right;\n",
              "    }\n",
              "</style>\n",
              "<table border=\"1\" class=\"dataframe\">\n",
              "  <thead>\n",
              "    <tr style=\"text-align: right;\">\n",
              "      <th></th>\n",
              "      <th>text</th>\n",
              "      <th>sentiment</th>\n",
              "    </tr>\n",
              "  </thead>\n",
              "  <tbody>\n",
              "    <tr>\n",
              "      <th>0</th>\n",
              "      <td>Bug Juice changed my life. I Know it sounds st...</td>\n",
              "      <td>1</td>\n",
              "    </tr>\n",
              "    <tr>\n",
              "      <th>1</th>\n",
              "      <td>As many of today's movies are guilty of, the p...</td>\n",
              "      <td>1</td>\n",
              "    </tr>\n",
              "    <tr>\n",
              "      <th>2</th>\n",
              "      <td>This is one of the best movies I have ever see...</td>\n",
              "      <td>1</td>\n",
              "    </tr>\n",
              "    <tr>\n",
              "      <th>3</th>\n",
              "      <td>This movie took me by surprise. The opening cr...</td>\n",
              "      <td>1</td>\n",
              "    </tr>\n",
              "    <tr>\n",
              "      <th>4</th>\n",
              "      <td>I am salivating for the sequels. I needed some...</td>\n",
              "      <td>1</td>\n",
              "    </tr>\n",
              "    <tr>\n",
              "      <th>5</th>\n",
              "      <td>Garlin is unquestionably a comedian's comedian...</td>\n",
              "      <td>1</td>\n",
              "    </tr>\n",
              "    <tr>\n",
              "      <th>6</th>\n",
              "      <td>The greatest effort plus the finest cast ever ...</td>\n",
              "      <td>1</td>\n",
              "    </tr>\n",
              "    <tr>\n",
              "      <th>7</th>\n",
              "      <td>This really is a movie that you need to see tw...</td>\n",
              "      <td>1</td>\n",
              "    </tr>\n",
              "    <tr>\n",
              "      <th>8</th>\n",
              "      <td>I really liked this one. (SPOILERS??) It had a...</td>\n",
              "      <td>1</td>\n",
              "    </tr>\n",
              "    <tr>\n",
              "      <th>9</th>\n",
              "      <td>This is a VERY good movie. I give it a 10.&lt;br ...</td>\n",
              "      <td>1</td>\n",
              "    </tr>\n",
              "    <tr>\n",
              "      <th>10</th>\n",
              "      <td>This is a well done action movie. There are pl...</td>\n",
              "      <td>1</td>\n",
              "    </tr>\n",
              "    <tr>\n",
              "      <th>11</th>\n",
              "      <td>There are too many people on this board who ha...</td>\n",
              "      <td>1</td>\n",
              "    </tr>\n",
              "    <tr>\n",
              "      <th>12</th>\n",
              "      <td>This sequel proves that Tim Burton was for all...</td>\n",
              "      <td>1</td>\n",
              "    </tr>\n",
              "    <tr>\n",
              "      <th>13</th>\n",
              "      <td>Right, here we go, you have probably read in p...</td>\n",
              "      <td>1</td>\n",
              "    </tr>\n",
              "    <tr>\n",
              "      <th>14</th>\n",
              "      <td>In many ways, the filmic career of independent...</td>\n",
              "      <td>1</td>\n",
              "    </tr>\n",
              "    <tr>\n",
              "      <th>15</th>\n",
              "      <td>I watch this movie every time it plays on TV. ...</td>\n",
              "      <td>1</td>\n",
              "    </tr>\n",
              "    <tr>\n",
              "      <th>16</th>\n",
              "      <td>Highlighting the acting of Sidney Poitier and ...</td>\n",
              "      <td>1</td>\n",
              "    </tr>\n",
              "    <tr>\n",
              "      <th>17</th>\n",
              "      <td>Uzak (2002), a Turkish film shown in the U.S. ...</td>\n",
              "      <td>1</td>\n",
              "    </tr>\n",
              "    <tr>\n",
              "      <th>18</th>\n",
              "      <td>I watch a lot of Vampire movies. I KNOW vampir...</td>\n",
              "      <td>1</td>\n",
              "    </tr>\n",
              "    <tr>\n",
              "      <th>19</th>\n",
              "      <td>I saw this on TCM recently and, through the IM...</td>\n",
              "      <td>1</td>\n",
              "    </tr>\n",
              "    <tr>\n",
              "      <th>20</th>\n",
              "      <td>The film is excellent. One of the most notewor...</td>\n",
              "      <td>1</td>\n",
              "    </tr>\n",
              "    <tr>\n",
              "      <th>21</th>\n",
              "      <td>The first feature length Muppet Movie, and exc...</td>\n",
              "      <td>1</td>\n",
              "    </tr>\n",
              "    <tr>\n",
              "      <th>22</th>\n",
              "      <td>This is one of the Stooges best shorts. It was...</td>\n",
              "      <td>1</td>\n",
              "    </tr>\n",
              "    <tr>\n",
              "      <th>23</th>\n",
              "      <td>i am an avid ff7 fan, for instance i have the ...</td>\n",
              "      <td>1</td>\n",
              "    </tr>\n",
              "    <tr>\n",
              "      <th>24</th>\n",
              "      <td>My teacher did this movie. It's a new beginnin...</td>\n",
              "      <td>1</td>\n",
              "    </tr>\n",
              "    <tr>\n",
              "      <th>25</th>\n",
              "      <td>Bwana Devil is reputedly the first major studi...</td>\n",
              "      <td>1</td>\n",
              "    </tr>\n",
              "    <tr>\n",
              "      <th>26</th>\n",
              "      <td>I first viewed \"They Died With There Boots On\"...</td>\n",
              "      <td>1</td>\n",
              "    </tr>\n",
              "    <tr>\n",
              "      <th>27</th>\n",
              "      <td>i can't believe people are giving bad reviews ...</td>\n",
              "      <td>1</td>\n",
              "    </tr>\n",
              "    <tr>\n",
              "      <th>28</th>\n",
              "      <td>Superb silent version of the story of Francois...</td>\n",
              "      <td>1</td>\n",
              "    </tr>\n",
              "    <tr>\n",
              "      <th>29</th>\n",
              "      <td>This film is undoubtedly one of the greatest l...</td>\n",
              "      <td>1</td>\n",
              "    </tr>\n",
              "    <tr>\n",
              "      <th>...</th>\n",
              "      <td>...</td>\n",
              "      <td>...</td>\n",
              "    </tr>\n",
              "    <tr>\n",
              "      <th>970</th>\n",
              "      <td>Roger Corman has enjoyed his shares of cinemat...</td>\n",
              "      <td>0</td>\n",
              "    </tr>\n",
              "    <tr>\n",
              "      <th>971</th>\n",
              "      <td>This movie should have been billed as three mo...</td>\n",
              "      <td>0</td>\n",
              "    </tr>\n",
              "    <tr>\n",
              "      <th>972</th>\n",
              "      <td>Stay away from this movie. Far away. Phil Fond...</td>\n",
              "      <td>0</td>\n",
              "    </tr>\n",
              "    <tr>\n",
              "      <th>973</th>\n",
              "      <td>Wasted is just that, a waste of time. MTV is c...</td>\n",
              "      <td>0</td>\n",
              "    </tr>\n",
              "    <tr>\n",
              "      <th>974</th>\n",
              "      <td>One of the commentators on the subject of Lil'...</td>\n",
              "      <td>0</td>\n",
              "    </tr>\n",
              "    <tr>\n",
              "      <th>975</th>\n",
              "      <td>I wish I could have given this a Zero. Sure I'...</td>\n",
              "      <td>0</td>\n",
              "    </tr>\n",
              "    <tr>\n",
              "      <th>976</th>\n",
              "      <td>This movie is not worth a descend review, it j...</td>\n",
              "      <td>0</td>\n",
              "    </tr>\n",
              "    <tr>\n",
              "      <th>977</th>\n",
              "      <td>From watching the trailer, the movie looked pr...</td>\n",
              "      <td>0</td>\n",
              "    </tr>\n",
              "    <tr>\n",
              "      <th>978</th>\n",
              "      <td>I caught a screening of this at the True/False...</td>\n",
              "      <td>0</td>\n",
              "    </tr>\n",
              "    <tr>\n",
              "      <th>979</th>\n",
              "      <td>L'Auberge Espagnole is less funny and less int...</td>\n",
              "      <td>0</td>\n",
              "    </tr>\n",
              "    <tr>\n",
              "      <th>980</th>\n",
              "      <td>pretty disappointing. i was expecting more of ...</td>\n",
              "      <td>0</td>\n",
              "    </tr>\n",
              "    <tr>\n",
              "      <th>981</th>\n",
              "      <td>I have done some research on Ed Gien, and I ha...</td>\n",
              "      <td>0</td>\n",
              "    </tr>\n",
              "    <tr>\n",
              "      <th>982</th>\n",
              "      <td>I really liked this movie. Number 5, the star ...</td>\n",
              "      <td>0</td>\n",
              "    </tr>\n",
              "    <tr>\n",
              "      <th>983</th>\n",
              "      <td>I had enjoyed the Masters of Horror Series unt...</td>\n",
              "      <td>0</td>\n",
              "    </tr>\n",
              "    <tr>\n",
              "      <th>984</th>\n",
              "      <td>'Book II' isn't a film, it's a sermon. This na...</td>\n",
              "      <td>0</td>\n",
              "    </tr>\n",
              "    <tr>\n",
              "      <th>985</th>\n",
              "      <td>Wow. I thought, Eskimo Limon was the most awfu...</td>\n",
              "      <td>0</td>\n",
              "    </tr>\n",
              "    <tr>\n",
              "      <th>986</th>\n",
              "      <td>If you're an average guy like me and enjoy goo...</td>\n",
              "      <td>0</td>\n",
              "    </tr>\n",
              "    <tr>\n",
              "      <th>987</th>\n",
              "      <td>I couldn't help but look at the time every 5 t...</td>\n",
              "      <td>0</td>\n",
              "    </tr>\n",
              "    <tr>\n",
              "      <th>988</th>\n",
              "      <td>This is a rip-off of already crappy hollywood ...</td>\n",
              "      <td>0</td>\n",
              "    </tr>\n",
              "    <tr>\n",
              "      <th>989</th>\n",
              "      <td>Only in the Hollywood audiovisual fiction worl...</td>\n",
              "      <td>0</td>\n",
              "    </tr>\n",
              "    <tr>\n",
              "      <th>990</th>\n",
              "      <td>When Pam Grier made COFFY in 1973, it was an e...</td>\n",
              "      <td>0</td>\n",
              "    </tr>\n",
              "    <tr>\n",
              "      <th>991</th>\n",
              "      <td>&lt;br /&gt;&lt;br /&gt;I understand that people have diff...</td>\n",
              "      <td>0</td>\n",
              "    </tr>\n",
              "    <tr>\n",
              "      <th>992</th>\n",
              "      <td>I am a German student so sorry for eventually ...</td>\n",
              "      <td>0</td>\n",
              "    </tr>\n",
              "    <tr>\n",
              "      <th>993</th>\n",
              "      <td>What can I say after I say the one line summar...</td>\n",
              "      <td>0</td>\n",
              "    </tr>\n",
              "    <tr>\n",
              "      <th>994</th>\n",
              "      <td>Nightkill stars Robert Mitchum as a world-wear...</td>\n",
              "      <td>0</td>\n",
              "    </tr>\n",
              "    <tr>\n",
              "      <th>995</th>\n",
              "      <td>This is my opinion of this movie, expressed in...</td>\n",
              "      <td>0</td>\n",
              "    </tr>\n",
              "    <tr>\n",
              "      <th>996</th>\n",
              "      <td>Why can't a movie be rated a zero? Or even a n...</td>\n",
              "      <td>0</td>\n",
              "    </tr>\n",
              "    <tr>\n",
              "      <th>997</th>\n",
              "      <td>The Gun is probably the worst film I've ever s...</td>\n",
              "      <td>0</td>\n",
              "    </tr>\n",
              "    <tr>\n",
              "      <th>998</th>\n",
              "      <td>If you are thinking of going to see this film ...</td>\n",
              "      <td>0</td>\n",
              "    </tr>\n",
              "    <tr>\n",
              "      <th>999</th>\n",
              "      <td>This movie was like a gathering of people that...</td>\n",
              "      <td>0</td>\n",
              "    </tr>\n",
              "  </tbody>\n",
              "</table>\n",
              "<p>1000 rows × 2 columns</p>\n",
              "</div>"
            ],
            "text/plain": [
              "                                                  text  sentiment\n",
              "0    Bug Juice changed my life. I Know it sounds st...          1\n",
              "1    As many of today's movies are guilty of, the p...          1\n",
              "2    This is one of the best movies I have ever see...          1\n",
              "3    This movie took me by surprise. The opening cr...          1\n",
              "4    I am salivating for the sequels. I needed some...          1\n",
              "5    Garlin is unquestionably a comedian's comedian...          1\n",
              "6    The greatest effort plus the finest cast ever ...          1\n",
              "7    This really is a movie that you need to see tw...          1\n",
              "8    I really liked this one. (SPOILERS??) It had a...          1\n",
              "9    This is a VERY good movie. I give it a 10.<br ...          1\n",
              "10   This is a well done action movie. There are pl...          1\n",
              "11   There are too many people on this board who ha...          1\n",
              "12   This sequel proves that Tim Burton was for all...          1\n",
              "13   Right, here we go, you have probably read in p...          1\n",
              "14   In many ways, the filmic career of independent...          1\n",
              "15   I watch this movie every time it plays on TV. ...          1\n",
              "16   Highlighting the acting of Sidney Poitier and ...          1\n",
              "17   Uzak (2002), a Turkish film shown in the U.S. ...          1\n",
              "18   I watch a lot of Vampire movies. I KNOW vampir...          1\n",
              "19   I saw this on TCM recently and, through the IM...          1\n",
              "20   The film is excellent. One of the most notewor...          1\n",
              "21   The first feature length Muppet Movie, and exc...          1\n",
              "22   This is one of the Stooges best shorts. It was...          1\n",
              "23   i am an avid ff7 fan, for instance i have the ...          1\n",
              "24   My teacher did this movie. It's a new beginnin...          1\n",
              "25   Bwana Devil is reputedly the first major studi...          1\n",
              "26   I first viewed \"They Died With There Boots On\"...          1\n",
              "27   i can't believe people are giving bad reviews ...          1\n",
              "28   Superb silent version of the story of Francois...          1\n",
              "29   This film is undoubtedly one of the greatest l...          1\n",
              "..                                                 ...        ...\n",
              "970  Roger Corman has enjoyed his shares of cinemat...          0\n",
              "971  This movie should have been billed as three mo...          0\n",
              "972  Stay away from this movie. Far away. Phil Fond...          0\n",
              "973  Wasted is just that, a waste of time. MTV is c...          0\n",
              "974  One of the commentators on the subject of Lil'...          0\n",
              "975  I wish I could have given this a Zero. Sure I'...          0\n",
              "976  This movie is not worth a descend review, it j...          0\n",
              "977  From watching the trailer, the movie looked pr...          0\n",
              "978  I caught a screening of this at the True/False...          0\n",
              "979  L'Auberge Espagnole is less funny and less int...          0\n",
              "980  pretty disappointing. i was expecting more of ...          0\n",
              "981  I have done some research on Ed Gien, and I ha...          0\n",
              "982  I really liked this movie. Number 5, the star ...          0\n",
              "983  I had enjoyed the Masters of Horror Series unt...          0\n",
              "984  'Book II' isn't a film, it's a sermon. This na...          0\n",
              "985  Wow. I thought, Eskimo Limon was the most awfu...          0\n",
              "986  If you're an average guy like me and enjoy goo...          0\n",
              "987  I couldn't help but look at the time every 5 t...          0\n",
              "988  This is a rip-off of already crappy hollywood ...          0\n",
              "989  Only in the Hollywood audiovisual fiction worl...          0\n",
              "990  When Pam Grier made COFFY in 1973, it was an e...          0\n",
              "991  <br /><br />I understand that people have diff...          0\n",
              "992  I am a German student so sorry for eventually ...          0\n",
              "993  What can I say after I say the one line summar...          0\n",
              "994  Nightkill stars Robert Mitchum as a world-wear...          0\n",
              "995  This is my opinion of this movie, expressed in...          0\n",
              "996  Why can't a movie be rated a zero? Or even a n...          0\n",
              "997  The Gun is probably the worst film I've ever s...          0\n",
              "998  If you are thinking of going to see this film ...          0\n",
              "999  This movie was like a gathering of people that...          0\n",
              "\n",
              "[1000 rows x 2 columns]"
            ]
          },
          "metadata": {
            "tags": []
          },
          "execution_count": 55
        }
      ]
    },
    {
      "metadata": {
        "id": "hI-LdfYmym13",
        "colab_type": "code",
        "colab": {}
      },
      "cell_type": "code",
      "source": [
        "import pandas as pd\n",
        "train.sample\n",
        "df=test.sample(1000,random_state=1)\n",
        "df=pd.concat([test[test.sentiment==1].sample(500,random_state=1),test[test.sentiment==0].sample(500,random_state=1)])\n",
        "test=df.reset_index(drop=True)"
      ],
      "execution_count": 0,
      "outputs": []
    },
    {
      "metadata": {
        "colab_type": "text",
        "id": "XMsPEhKNv9My"
      },
      "cell_type": "markdown",
      "source": [
        "You should see the output like this:\n",
        "\n",
        "![](https://github.com/wshuyi/github_pub_img/raw/master/assets/2019-03-25-21-23-06-418103.png)"
      ]
    },
    {
      "metadata": {
        "id": "TVOUQNtIsR0o",
        "colab_type": "code",
        "colab": {
          "base_uri": "https://localhost:8080/",
          "height": 204
        },
        "outputId": "3171aa92-6770-4a54-df7e-210dd6167479"
      },
      "cell_type": "code",
      "source": [
        "test.tail()"
      ],
      "execution_count": 59,
      "outputs": [
        {
          "output_type": "execute_result",
          "data": {
            "text/html": [
              "<div>\n",
              "<style scoped>\n",
              "    .dataframe tbody tr th:only-of-type {\n",
              "        vertical-align: middle;\n",
              "    }\n",
              "\n",
              "    .dataframe tbody tr th {\n",
              "        vertical-align: top;\n",
              "    }\n",
              "\n",
              "    .dataframe thead th {\n",
              "        text-align: right;\n",
              "    }\n",
              "</style>\n",
              "<table border=\"1\" class=\"dataframe\">\n",
              "  <thead>\n",
              "    <tr style=\"text-align: right;\">\n",
              "      <th></th>\n",
              "      <th>text</th>\n",
              "      <th>sentiment</th>\n",
              "    </tr>\n",
              "  </thead>\n",
              "  <tbody>\n",
              "    <tr>\n",
              "      <th>24995</th>\n",
              "      <td>With actors like Depardieu and Richard it is r...</td>\n",
              "      <td>0</td>\n",
              "    </tr>\n",
              "    <tr>\n",
              "      <th>24996</th>\n",
              "      <td>If you like to get a couple of fleeting glimps...</td>\n",
              "      <td>0</td>\n",
              "    </tr>\n",
              "    <tr>\n",
              "      <th>24997</th>\n",
              "      <td>When something can be anything you want it to ...</td>\n",
              "      <td>0</td>\n",
              "    </tr>\n",
              "    <tr>\n",
              "      <th>24998</th>\n",
              "      <td>I had heard good things about \"States of Grace...</td>\n",
              "      <td>0</td>\n",
              "    </tr>\n",
              "    <tr>\n",
              "      <th>24999</th>\n",
              "      <td>Well, this movie actually did have one redeemi...</td>\n",
              "      <td>0</td>\n",
              "    </tr>\n",
              "  </tbody>\n",
              "</table>\n",
              "</div>"
            ],
            "text/plain": [
              "                                                    text  sentiment\n",
              "24995  With actors like Depardieu and Richard it is r...          0\n",
              "24996  If you like to get a couple of fleeting glimps...          0\n",
              "24997  When something can be anything you want it to ...          0\n",
              "24998  I had heard good things about \"States of Grace...          0\n",
              "24999  Well, this movie actually did have one redeemi...          0"
            ]
          },
          "metadata": {
            "tags": []
          },
          "execution_count": 59
        }
      ]
    },
    {
      "metadata": {
        "colab_type": "text",
        "id": "4Zf1RhB3wFMs"
      },
      "cell_type": "markdown",
      "source": [
        "You should see the output like this:\n",
        "\n",
        "![](https://github.com/wshuyi/github_pub_img/raw/master/assets/2019-03-25-21-23-16-486933.png)"
      ]
    },
    {
      "metadata": {
        "id": "R7FJoBdhsR0z",
        "colab_type": "text"
      },
      "cell_type": "markdown",
      "source": [
        "## Classification with TextBlob"
      ]
    },
    {
      "metadata": {
        "id": "qASzg7UgwLZU",
        "colab_type": "text"
      },
      "cell_type": "markdown",
      "source": [
        "**Question 4: (30 points)**\n",
        "\n",
        "Use [textblob](https://textblob.readthedocs.io/en/dev/quickstart.html#sentiment-analysis) to do sentiment analysis on **test** data, and make a **`classification_report`** using the prediction result and real sentiment labels. (Hint: you can refer to [this link](https://scikit-learn.org/stable/modules/generated/sklearn.metrics.classification_report.html) for documentation.)\n",
        "\n",
        "\n",
        "\n",
        "\n",
        "\n",
        "\n"
      ]
    },
    {
      "metadata": {
        "id": "tUOvoJQg0aQN",
        "colab_type": "code",
        "colab": {}
      },
      "cell_type": "code",
      "source": [
        "from textblob import TextBlob\n",
        "test_str = test.iloc[0].text\n",
        "blob = TextBlob(test_str); \n",
        "pred=[]\n",
        "df = test\n",
        "for i in range(len(df)):\n",
        "  test_str = df.iloc[i].text\n",
        "  blob = TextBlob(test_str); blob\n",
        "  a=blob.sentiment.polarity\n",
        "  if a <= 0:\n",
        "    pred.append(0)\n",
        "  else:\n",
        "    pred.append(1)"
      ],
      "execution_count": 0,
      "outputs": []
    },
    {
      "metadata": {
        "id": "lePkYraX002H",
        "colab_type": "code",
        "colab": {}
      },
      "cell_type": "code",
      "source": [
        "def get_sentiment(text):\n",
        "  pred=TextBlob(text).sentiment[0]\n",
        "  if pred > 0:\n",
        "    return 1\n",
        "  else:\n",
        "    return 0"
      ],
      "execution_count": 0,
      "outputs": []
    },
    {
      "metadata": {
        "id": "XuJjcVz_04UK",
        "colab_type": "code",
        "colab": {}
      },
      "cell_type": "code",
      "source": [
        "test[\"pred\"]=test.text.apply(get_sentiment)"
      ],
      "execution_count": 0,
      "outputs": []
    },
    {
      "metadata": {
        "id": "ktwnb8Xq0-GJ",
        "colab_type": "code",
        "colab": {}
      },
      "cell_type": "code",
      "source": [
        "from sklearn import metrics"
      ],
      "execution_count": 0,
      "outputs": []
    },
    {
      "metadata": {
        "id": "4aG5gLjU1Dqf",
        "colab_type": "code",
        "colab": {
          "base_uri": "https://localhost:8080/",
          "height": 170
        },
        "outputId": "0dadb3f5-9ebe-4889-f1fb-a2956a0cef51"
      },
      "cell_type": "code",
      "source": [
        "print(metrics.classification_report(test.sentiment, test.pred))"
      ],
      "execution_count": 88,
      "outputs": [
        {
          "output_type": "stream",
          "text": [
            "              precision    recall  f1-score   support\n",
            "\n",
            "           0       0.91      0.43      0.59       500\n",
            "           1       0.63      0.96      0.76       500\n",
            "\n",
            "   micro avg       0.69      0.69      0.69      1000\n",
            "   macro avg       0.77      0.69      0.67      1000\n",
            "weighted avg       0.77      0.69      0.67      1000\n",
            "\n"
          ],
          "name": "stdout"
        }
      ]
    },
    {
      "metadata": {
        "colab_type": "text",
        "id": "dL7EXDcqw5VZ"
      },
      "cell_type": "markdown",
      "source": [
        "You should see the output like this:\n",
        "\n",
        "![](https://github.com/wshuyi/github_pub_img/raw/master/assets/2019-03-25-21-23-27-649327.png)"
      ]
    },
    {
      "metadata": {
        "id": "ZGgNaxOssR1I",
        "colab_type": "text"
      },
      "cell_type": "markdown",
      "source": [
        "## Classification with Scikit-learn"
      ]
    },
    {
      "metadata": {
        "id": "UVeSXOs3xbiJ",
        "colab_type": "text"
      },
      "cell_type": "markdown",
      "source": [
        "**Question 5: (40 points)**\n",
        "\n",
        "Train a [MultinomialNB Model](https://scikit-learn.org/stable/modules/generated/sklearn.naive_bayes.MultinomialNB.html) from Scikit-learn with the **train** data. Make sure you convert the text data into high dimensional (2000) vectors with [CountVectorizer](https://scikit-learn.org/stable/modules/generated/sklearn.feature_extraction.text.CountVectorizer.html), and using proper parameters to filter the tokens. Then do sentiment analysis on **test** data, and make a **`classification_report`** using the prediction result and real sentiment labels. (Hint: you can refer to [this link](https://scikit-learn.org/stable/modules/generated/sklearn.metrics.classification_report.html) for documentation.)\n",
        "\n",
        "\n",
        "\n",
        "\n",
        "\n",
        "\n"
      ]
    },
    {
      "metadata": {
        "colab_type": "code",
        "id": "U4SKVnQt5kHv",
        "colab": {}
      },
      "cell_type": "code",
      "source": [
        "from sklearn.feature_extraction.text import CountVectorizer"
      ],
      "execution_count": 0,
      "outputs": []
    },
    {
      "metadata": {
        "id": "CsAaSnMW1KFW",
        "colab_type": "code",
        "colab": {
          "base_uri": "https://localhost:8080/",
          "height": 51
        },
        "outputId": "d7be3eb3-9bbe-4ee0-cbd7-883a5252978e"
      },
      "cell_type": "code",
      "source": [
        "vect = CountVectorizer(stop_words='english', token_pattern =u'(?u)\\\\b[^\\\\d\\\\W]\\\\w+\\\\b', max_df=0.8, min_df=2, max_features=2000)\n",
        "vect.fit_transform(train.text)"
      ],
      "execution_count": 90,
      "outputs": [
        {
          "output_type": "execute_result",
          "data": {
            "text/plain": [
              "<1000x2000 sparse matrix of type '<class 'numpy.int64'>'\n",
              "\twith 57126 stored elements in Compressed Sparse Row format>"
            ]
          },
          "metadata": {
            "tags": []
          },
          "execution_count": 90
        }
      ]
    },
    {
      "metadata": {
        "id": "EQp_Yu5T1M6e",
        "colab_type": "code",
        "colab": {}
      },
      "cell_type": "code",
      "source": [
        "X_train = vect.fit_transform(train.text)\n",
        "y_train = train.sentiment"
      ],
      "execution_count": 0,
      "outputs": []
    },
    {
      "metadata": {
        "id": "3t7MyCnt1P6_",
        "colab_type": "code",
        "colab": {}
      },
      "cell_type": "code",
      "source": [
        "from sklearn.naive_bayes import MultinomialNB"
      ],
      "execution_count": 0,
      "outputs": []
    },
    {
      "metadata": {
        "id": "DOQ2sx5X1SoL",
        "colab_type": "code",
        "colab": {}
      },
      "cell_type": "code",
      "source": [
        "nb = MultinomialNB()"
      ],
      "execution_count": 0,
      "outputs": []
    },
    {
      "metadata": {
        "id": "7N5mjHEQ1Vho",
        "colab_type": "code",
        "colab": {
          "base_uri": "https://localhost:8080/",
          "height": 34
        },
        "outputId": "281e938f-1efb-4575-fd55-feedcb94f5b9"
      },
      "cell_type": "code",
      "source": [
        "nb.fit(X_train, y_train)"
      ],
      "execution_count": 94,
      "outputs": [
        {
          "output_type": "execute_result",
          "data": {
            "text/plain": [
              "MultinomialNB(alpha=1.0, class_prior=None, fit_prior=True)"
            ]
          },
          "metadata": {
            "tags": []
          },
          "execution_count": 94
        }
      ]
    },
    {
      "metadata": {
        "id": "1FWzlFkU1X5k",
        "colab_type": "code",
        "colab": {}
      },
      "cell_type": "code",
      "source": [
        "X_test = vect.transform(test.text)\n",
        "y_test = test.sentiment"
      ],
      "execution_count": 0,
      "outputs": []
    },
    {
      "metadata": {
        "id": "hqVP1gAl1aSV",
        "colab_type": "code",
        "colab": {}
      },
      "cell_type": "code",
      "source": [
        "y_pred = nb.predict(X_test)"
      ],
      "execution_count": 0,
      "outputs": []
    },
    {
      "metadata": {
        "id": "aNFvOSsQ1cS2",
        "colab_type": "code",
        "colab": {
          "base_uri": "https://localhost:8080/",
          "height": 1071
        },
        "outputId": "022b2ce6-8814-4f8d-8d95-36877d0607e2"
      },
      "cell_type": "code",
      "source": [
        "y_test"
      ],
      "execution_count": 97,
      "outputs": [
        {
          "output_type": "execute_result",
          "data": {
            "text/plain": [
              "0      1\n",
              "1      1\n",
              "2      1\n",
              "3      1\n",
              "4      1\n",
              "5      1\n",
              "6      1\n",
              "7      1\n",
              "8      1\n",
              "9      1\n",
              "10     1\n",
              "11     1\n",
              "12     1\n",
              "13     1\n",
              "14     1\n",
              "15     1\n",
              "16     1\n",
              "17     1\n",
              "18     1\n",
              "19     1\n",
              "20     1\n",
              "21     1\n",
              "22     1\n",
              "23     1\n",
              "24     1\n",
              "25     1\n",
              "26     1\n",
              "27     1\n",
              "28     1\n",
              "29     1\n",
              "      ..\n",
              "970    0\n",
              "971    0\n",
              "972    0\n",
              "973    0\n",
              "974    0\n",
              "975    0\n",
              "976    0\n",
              "977    0\n",
              "978    0\n",
              "979    0\n",
              "980    0\n",
              "981    0\n",
              "982    0\n",
              "983    0\n",
              "984    0\n",
              "985    0\n",
              "986    0\n",
              "987    0\n",
              "988    0\n",
              "989    0\n",
              "990    0\n",
              "991    0\n",
              "992    0\n",
              "993    0\n",
              "994    0\n",
              "995    0\n",
              "996    0\n",
              "997    0\n",
              "998    0\n",
              "999    0\n",
              "Name: sentiment, Length: 1000, dtype: int64"
            ]
          },
          "metadata": {
            "tags": []
          },
          "execution_count": 97
        }
      ]
    },
    {
      "metadata": {
        "id": "c_6yzZQC1fuk",
        "colab_type": "code",
        "colab": {
          "base_uri": "https://localhost:8080/",
          "height": 170
        },
        "outputId": "f928cf48-2981-4b8b-be20-11fd079be53f"
      },
      "cell_type": "code",
      "source": [
        "print(metrics.classification_report(y_test, y_pred))"
      ],
      "execution_count": 98,
      "outputs": [
        {
          "output_type": "stream",
          "text": [
            "              precision    recall  f1-score   support\n",
            "\n",
            "           0       0.78      0.84      0.81       500\n",
            "           1       0.83      0.76      0.80       500\n",
            "\n",
            "   micro avg       0.80      0.80      0.80      1000\n",
            "   macro avg       0.81      0.80      0.80      1000\n",
            "weighted avg       0.81      0.80      0.80      1000\n",
            "\n"
          ],
          "name": "stdout"
        }
      ]
    },
    {
      "metadata": {
        "colab_type": "text",
        "id": "kvTUJjs7yqr-"
      },
      "cell_type": "markdown",
      "source": [
        "You should see the output like this:\n",
        "\n",
        "![](https://github.com/wshuyi/github_pub_img/raw/master/assets/2019-03-25-21-23-45-528500.png)"
      ]
    },
    {
      "metadata": {
        "id": "VezgLVrfqFyW",
        "colab_type": "code",
        "colab": {}
      },
      "cell_type": "code",
      "source": [
        ""
      ],
      "execution_count": 0,
      "outputs": []
    }
  ]
}