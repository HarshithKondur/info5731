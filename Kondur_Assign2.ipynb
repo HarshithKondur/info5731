{
 "cells": [
  {
   "cell_type": "code",
   "execution_count": 11,
   "metadata": {},
   "outputs": [
    {
     "name": "stdout",
     "output_type": "stream",
     "text": [
      "85\n",
      "B\n"
     ]
    }
   ],
   "source": [
    "number = int(input());\n",
    "if number >100:\n",
    "    print(\"Error in input\");\n",
    "elif number >=90:\n",
    "    print(\"A\");\n",
    "elif number >=80:\n",
    "    print(\"B\");\n",
    "elif number >=70:\n",
    "    print(\"C\");\n",
    "elif number >=60:\n",
    "    print(\"D\");\n",
    "elif number <60:\n",
    "    print(\"F\");"
   ]
  },
  {
   "cell_type": "code",
   "execution_count": 18,
   "metadata": {},
   "outputs": [
    {
     "name": "stdout",
     "output_type": "stream",
     "text": [
      "The Average of list 39.916666666666664\n",
      "Ascending order [9, 9, 13, 18, 21, 36, 49, 52, 53, 64, 68, 87]\n",
      "Decending order of list [87, 68, 64, 53, 52, 49, 36, 21, 18, 13, 9, 9]\n"
     ]
    }
   ],
   "source": [
    "import random\n",
    "sum  = 0\n",
    "list = []\n",
    "for x in range(12):\n",
    "        num = random.randint(1,101);\n",
    "        sum = sum+num;\n",
    "        list.append(num);\n",
    "\n",
    "print(\"The Average of list\",sum/12);\n",
    "list.sort();\n",
    "print(\"Ascending order\",list);\n",
    "list.sort(reverse = True);\n",
    "print(\"Decending order of list\",list);\n"
   ]
  },
  {
   "cell_type": "code",
   "execution_count": 21,
   "metadata": {},
   "outputs": [
    {
     "name": "stdout",
     "output_type": "stream",
     "text": [
      "Volume for r = 1 is 4.19047619047619\n",
      "Volume for r = 2 is 33.52380952380952\n",
      "Volume for r = 3 is 113.14285714285712\n",
      "Volume for r = 4 is 268.19047619047615\n",
      "Volume for r = 5 is 523.8095238095237\n",
      "Volume for r = 6 is 905.142857142857\n",
      "Volume for r = 7 is 1437.3333333333333\n",
      "Volume for r = 8 is 2145.523809523809\n",
      "Volume for r = 9 is 3054.8571428571427\n",
      "Volume for r = 10 is 4190.47619047619\n"
     ]
    }
   ],
   "source": [
    "for r in range(1,11):\n",
    "    v = (4/3) * (22/7) * r * r * r\n",
    "    print(\"Volume for r =\",r,\"is\",v);\n",
    "    "
   ]
  },
  {
   "cell_type": "code",
   "execution_count": 22,
   "metadata": {},
   "outputs": [
    {
     "data": {
      "text/plain": [
       "True"
      ]
     },
     "execution_count": 22,
     "metadata": {},
     "output_type": "execute_result"
    }
   ],
   "source": [
    "\"A\".isupper()\n"
   ]
  },
  {
   "cell_type": "code",
   "execution_count": 25,
   "metadata": {},
   "outputs": [
    {
     "ename": "SyntaxError",
     "evalue": "invalid syntax (<ipython-input-25-c92785b4f288>, line 1)",
     "output_type": "error",
     "traceback": [
      "\u001b[0;36m  File \u001b[0;32m\"<ipython-input-25-c92785b4f288>\"\u001b[0;36m, line \u001b[0;32m1\u001b[0m\n\u001b[0;31m    Print\"This is my python class\";\u001b[0m\n\u001b[0m                                 ^\u001b[0m\n\u001b[0;31mSyntaxError\u001b[0m\u001b[0;31m:\u001b[0m invalid syntax\n"
     ]
    }
   ],
   "source": [
    "Print\"This is my python class\";\n",
    "#We should enclose the the message in the braces"
   ]
  },
  {
   "cell_type": "code",
   "execution_count": 27,
   "metadata": {},
   "outputs": [
    {
     "ename": "SyntaxError",
     "evalue": "invalid syntax (<ipython-input-27-a492f2dd0269>, line 3)",
     "output_type": "error",
     "traceback": [
      "\u001b[0;36m  File \u001b[0;32m\"<ipython-input-27-a492f2dd0269>\"\u001b[0;36m, line \u001b[0;32m3\u001b[0m\n\u001b[0;31m    x==1 AND y>x # The AND should be written like this (and)\u001b[0m\n\u001b[0m           ^\u001b[0m\n\u001b[0;31mSyntaxError\u001b[0m\u001b[0;31m:\u001b[0m invalid syntax\n"
     ]
    }
   ],
   "source": [
    "x=1\n",
    "y=10\n",
    "x==1 AND y>x # The AND should be written like this (and)"
   ]
  },
  {
   "cell_type": "code",
   "execution_count": 33,
   "metadata": {},
   "outputs": [
    {
     "ename": "SyntaxError",
     "evalue": "'return' outside function (<ipython-input-33-47ae6888cc56>, line 2)",
     "output_type": "error",
     "traceback": [
      "\u001b[0;36m  File \u001b[0;32m\"<ipython-input-33-47ae6888cc56>\"\u001b[0;36m, line \u001b[0;32m2\u001b[0m\n\u001b[0;31m    return t[1:]\u001b[0m\n\u001b[0m                ^\u001b[0m\n\u001b[0;31mSyntaxError\u001b[0m\u001b[0;31m:\u001b[0m 'return' outside function\n"
     ]
    }
   ],
   "source": [
    "t = [1,2,3,4,5,6];\n",
    "return t[1:]\n",
    "# It returns the syntax error if we return the list with return statement.\n"
   ]
  },
  {
   "cell_type": "code",
   "execution_count": null,
   "metadata": {},
   "outputs": [],
   "source": []
  },
  {
   "cell_type": "code",
   "execution_count": 42,
   "metadata": {},
   "outputs": [
    {
     "name": "stdout",
     "output_type": "stream",
     "text": [
      "apple is fruit\n"
     ]
    }
   ],
   "source": [
    "apple = [\"fruit\",\"vegetable\"];\n",
    "if \"fruit\" in apple:\n",
    "    print(\"apple is fruit\")"
   ]
  },
  {
   "cell_type": "code",
   "execution_count": 43,
   "metadata": {},
   "outputs": [
    {
     "ename": "SyntaxError",
     "evalue": "invalid syntax (<ipython-input-43-621263982039>, line 1)",
     "output_type": "error",
     "traceback": [
      "\u001b[0;36m  File \u001b[0;32m\"<ipython-input-43-621263982039>\"\u001b[0;36m, line \u001b[0;32m1\u001b[0m\n\u001b[0;31m    if \"fruit\"in \"apple\"\u001b[0m\n\u001b[0m                        ^\u001b[0m\n\u001b[0;31mSyntaxError\u001b[0m\u001b[0;31m:\u001b[0m invalid syntax\n"
     ]
    }
   ],
   "source": [
    "if \"fruit\"in \"apple\"\n",
    "#It doesn't do the chracter match with the both the string"
   ]
  },
  {
   "cell_type": "code",
   "execution_count": null,
   "metadata": {},
   "outputs": [],
   "source": []
  },
  {
   "cell_type": "code",
   "execution_count": 51,
   "metadata": {},
   "outputs": [],
   "source": [
    "foo = 100;\n",
    "foo == None;"
   ]
  },
  {
   "cell_type": "code",
   "execution_count": 52,
   "metadata": {},
   "outputs": [],
   "source": [
    "foo == None;\n",
    "foo == None;\n"
   ]
  },
  {
   "cell_type": "code",
   "execution_count": 65,
   "metadata": {},
   "outputs": [
    {
     "name": "stdout",
     "output_type": "stream",
     "text": [
      "/Users/kondurharshith/Documents/GitHub/info5731\n"
     ]
    }
   ],
   "source": [
    "import os;\n",
    "print(os.getcwd());\n"
   ]
  },
  {
   "cell_type": "code",
   "execution_count": 61,
   "metadata": {},
   "outputs": [
    {
     "ename": "TypeError",
     "evalue": "'str' object does not support item assignment",
     "output_type": "error",
     "traceback": [
      "\u001b[0;31m---------------------------------------------------------------------------\u001b[0m",
      "\u001b[0;31mTypeError\u001b[0m                                 Traceback (most recent call last)",
      "\u001b[0;32m<ipython-input-61-af37bc8ec3b3>\u001b[0m in \u001b[0;36m<module>\u001b[0;34m\u001b[0m\n\u001b[1;32m      1\u001b[0m \u001b[0mname\u001b[0m \u001b[0;34m=\u001b[0m \u001b[0;34m\"My name is Brenda\"\u001b[0m\u001b[0;34m\u001b[0m\u001b[0;34m\u001b[0m\u001b[0m\n\u001b[0;32m----> 2\u001b[0;31m \u001b[0mname\u001b[0m\u001b[0;34m[\u001b[0m\u001b[0;36m0\u001b[0m\u001b[0;34m]\u001b[0m \u001b[0;34m=\u001b[0m \u001b[0;34m\"A\"\u001b[0m\u001b[0;34m\u001b[0m\u001b[0;34m\u001b[0m\u001b[0m\n\u001b[0m\u001b[1;32m      3\u001b[0m \u001b[0;31m#It gives the error because it work name is a list\u001b[0m\u001b[0;34m\u001b[0m\u001b[0;34m\u001b[0m\u001b[0;34m\u001b[0m\u001b[0m\n",
      "\u001b[0;31mTypeError\u001b[0m: 'str' object does not support item assignment"
     ]
    }
   ],
   "source": [
    "name = \"My name is Brenda\"\n",
    "name[0] = \"A\"\n",
    "#It gives the error because it work name is a list"
   ]
  },
  {
   "cell_type": "code",
   "execution_count": 67,
   "metadata": {},
   "outputs": [
    {
     "name": "stdout",
     "output_type": "stream",
     "text": [
      "Hello \n"
     ]
    }
   ],
   "source": [
    "with open(\"myfile.txt\", \"r\") as f:\n",
    "    text = f.read();\n",
    "    print(\"Hello\",text)"
   ]
  },
  {
   "cell_type": "code",
   "execution_count": 68,
   "metadata": {},
   "outputs": [
    {
     "data": {
      "text/plain": [
       "27"
      ]
     },
     "execution_count": 68,
     "metadata": {},
     "output_type": "execute_result"
    }
   ],
   "source": [
    "x = 3\n",
    "x ** 3"
   ]
  },
  {
   "cell_type": "code",
   "execution_count": 69,
   "metadata": {},
   "outputs": [
    {
     "data": {
      "text/plain": [
       "6"
      ]
     },
     "execution_count": 69,
     "metadata": {},
     "output_type": "execute_result"
    }
   ],
   "source": [
    "20 %7 \n"
   ]
  },
  {
   "cell_type": "code",
   "execution_count": 84,
   "metadata": {},
   "outputs": [
    {
     "name": "stdout",
     "output_type": "stream",
     "text": [
      "Enter the string for the sentence 1:\n",
      "Hi I am Harshith\n",
      "Enter the string for the sentence 2:\n",
      "Hi I am Harshith\n",
      "List 1 sentence ['Hi', 'I', 'am', 'Harshith']\n",
      "list 2 sentence ['Hi', 'I', 'am', 'Harshith']\n",
      "{'am', 'I', 'Hi', 'Harshith'}\n",
      "Sentence 1 after removing punctuations:  Hi I am Harshith \n",
      "Sentence 2 after removing punctuations:  Hi I am Harshith\n",
      "Number of vowels in Sentence 1 =  0\n",
      "Number of vowels in Sentence 2 =  0\n",
      "Sentence 1 a: 0  e: 0  i: 0  o: 0  u: 0 \n",
      "Sentence 2 a: 0  e: 0  i: 0  o: 0  u: 0\n"
     ]
    }
   ],
   "source": [
    "import string;\n",
    "print(\"Enter the string for the sentence 1:\");\n",
    "list1 = input();\n",
    "print(\"Enter the string for the sentence 2:\");\n",
    "list2 = input();\n",
    "l1s = list1;\n",
    "l2s=list2;\n",
    "list1 = list1.split();\n",
    "list2 = list2.split();\n",
    "print(\"List 1 sentence\",list1);\n",
    "print(\"list 2 sentence\",list2);\n",
    "\n",
    "common = (set(list1)).intersection(set(list2))\n",
    "#print(common);\n",
    "if len(common)<=0:\n",
    "    print(\"Nothing in commmon\");\n",
    "else:\n",
    "    print(common);\n",
    "    \n",
    "import string\n",
    "#make translator object\n",
    "translator=str.maketrans('','',string.punctuation)\n",
    "string1=l1s.translate(translator)\n",
    "string2=l2s.translate(translator)\n",
    "\n",
    "print(\"Sentence 1 after removing punctuations: \",string1,\"\\nSentence 2 after removing punctuations: \",string2);\n",
    "\n",
    "s1a = list1.count('a');\n",
    "s1e = list1.count('e');\n",
    "s1i = list1.count('i');\n",
    "s1o = list1.count('o');\n",
    "s1u = list1.count('u');\n",
    "\n",
    "s2a = list2.count('a');\n",
    "s2e = list2.count('e');\n",
    "s2i = list2.count('i');\n",
    "s2o = list2.count('o');\n",
    "s2u = list2.count('u');\n",
    "\n",
    "c1 = 0;\n",
    "for c in list1:\n",
    "  if c == 'a' or c=='e' or c=='i' or c=='o' or c=='u':\n",
    "    c1 = c1 + 1;\n",
    "\n",
    "    \n",
    "c2 = 0;\n",
    "for c in list2:\n",
    "  if c == 'a' or c=='e' or c=='i' or c=='o' or c=='u':\n",
    "    c2 = c2 + 1;    \n",
    "    \n",
    "print(\"Number of vowels in Sentence 1 = \",c1);\n",
    "print(\"Number of vowels in Sentence 2 = \",c2);    \n",
    "    \n",
    "print(\"Sentence 1 a:\",s1a,\" e:\",s1e,\" i:\",s1i,\" o:\",s1o,\" u:\",s1u,\"\\nSentence 2 a:\",s2a,\" e:\",s2e,\" i:\",s2i,\" o:\",s2o,\" u:\",s2u);"
   ]
  },
  {
   "cell_type": "code",
   "execution_count": null,
   "metadata": {},
   "outputs": [],
   "source": []
  }
 ],
 "metadata": {
  "kernelspec": {
   "display_name": "Python 3",
   "language": "python",
   "name": "python3"
  },
  "language_info": {
   "codemirror_mode": {
    "name": "ipython",
    "version": 3
   },
   "file_extension": ".py",
   "mimetype": "text/x-python",
   "name": "python",
   "nbconvert_exporter": "python",
   "pygments_lexer": "ipython3",
   "version": "3.7.1"
  }
 },
 "nbformat": 4,
 "nbformat_minor": 2
}
