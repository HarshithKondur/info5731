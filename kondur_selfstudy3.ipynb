{
 "cells": [
  {
   "cell_type": "code",
   "execution_count": 1,
   "metadata": {},
   "outputs": [],
   "source": [
    "import sys\n"
   ]
  },
  {
   "cell_type": "code",
   "execution_count": 3,
   "metadata": {},
   "outputs": [
    {
     "name": "stdout",
     "output_type": "stream",
     "text": [
      "0\n"
     ]
    }
   ],
   "source": [
    "count = 0\n",
    "for line in sys.stdin:\n",
    "    count += 1\n",
    "    \n",
    "print(count)"
   ]
  },
  {
   "cell_type": "code",
   "execution_count": 6,
   "metadata": {},
   "outputs": [
    {
     "name": "stdout",
     "output_type": "stream",
     "text": [
      "Most used common words\n"
     ]
    },
    {
     "ename": "SystemExit",
     "evalue": "1",
     "output_type": "error",
     "traceback": [
      "An exception has occurred, use %tb to see the full traceback.\n",
      "\u001b[0;31mSystemExit\u001b[0m\u001b[0;31m:\u001b[0m 1\n"
     ]
    }
   ],
   "source": [
    "import sys\n",
    "from collections import Counter\n",
    "\n",
    "try:\n",
    "    num_words = int(sys.srgv[1])\n",
    "except:\n",
    "    print(\"Most used common words\")\n",
    "    sys.exit(1)\n",
    "counter = Counter(word.lower()\n",
    "                  for line in sys.stdin\n",
    "                  for word in line.strip().split()\n",
    "                  if word)\n",
    "for word,count in counter.most.common(num_words):\n",
    "    sys.stdout.write(str(count))\n",
    "sys.stdout.write(\"\\t\")\n",
    "sys.stdout.write(word)\n",
    "sys.stdout.write(\"\\n\")\n"
   ]
  },
  {
   "cell_type": "code",
   "execution_count": 9,
   "metadata": {},
   "outputs": [
    {
     "ename": "FileNotFoundError",
     "evalue": "[Errno 2] No such file or directory: 'email_addresses.txt'",
     "output_type": "error",
     "traceback": [
      "\u001b[0;31m---------------------------------------------------------------------------\u001b[0m",
      "\u001b[0;31mFileNotFoundError\u001b[0m                         Traceback (most recent call last)",
      "\u001b[0;32m<ipython-input-9-4c1d47d396c0>\u001b[0m in \u001b[0;36m<module>\u001b[0;34m\u001b[0m\n\u001b[1;32m      1\u001b[0m \u001b[0;32mdef\u001b[0m \u001b[0mget_domain\u001b[0m\u001b[0;34m(\u001b[0m\u001b[0memail_address\u001b[0m\u001b[0;34m)\u001b[0m\u001b[0;34m:\u001b[0m\u001b[0;34m\u001b[0m\u001b[0;34m\u001b[0m\u001b[0m\n\u001b[1;32m      2\u001b[0m     \u001b[0;32mreturn\u001b[0m \u001b[0memail_address\u001b[0m\u001b[0;34m.\u001b[0m\u001b[0mlower\u001b[0m\u001b[0;34m(\u001b[0m\u001b[0;34m)\u001b[0m\u001b[0;34m.\u001b[0m\u001b[0msplit\u001b[0m\u001b[0;34m(\u001b[0m\u001b[0;34m\"@\"\u001b[0m\u001b[0;34m)\u001b[0m\u001b[0;34m[\u001b[0m\u001b[0;34m-\u001b[0m\u001b[0;36m1\u001b[0m\u001b[0;34m]\u001b[0m\u001b[0;34m\u001b[0m\u001b[0;34m\u001b[0m\u001b[0m\n\u001b[0;32m----> 3\u001b[0;31m \u001b[0;32mwith\u001b[0m \u001b[0mopen\u001b[0m\u001b[0;34m(\u001b[0m\u001b[0;34m'email_addresses.txt'\u001b[0m\u001b[0;34m,\u001b[0m\u001b[0;34m'r'\u001b[0m\u001b[0;34m)\u001b[0m \u001b[0;32mas\u001b[0m \u001b[0mf\u001b[0m\u001b[0;34m:\u001b[0m\u001b[0;34m\u001b[0m\u001b[0;34m\u001b[0m\u001b[0m\n\u001b[0m\u001b[1;32m      4\u001b[0m     domain_counts = Counter(get_domain(line.strip())\n\u001b[1;32m      5\u001b[0m                             \u001b[0;32mfor\u001b[0m \u001b[0mline\u001b[0m \u001b[0;32min\u001b[0m \u001b[0mf\u001b[0m\u001b[0;34m\u001b[0m\u001b[0;34m\u001b[0m\u001b[0m\n",
      "\u001b[0;31mFileNotFoundError\u001b[0m: [Errno 2] No such file or directory: 'email_addresses.txt'"
     ]
    }
   ],
   "source": [
    "def get_domain(email_address):\n",
    "    return email_address.lower().split(\"@\")[-1]\n",
    "with open('email_addresses.txt','r') as f:\n",
    "    domain_counts = Counter(get_domain(line.strip())\n",
    "                            for line in f\n",
    "                           if \"@\" in line)"
   ]
  },
  {
   "cell_type": "code",
   "execution_count": 16,
   "metadata": {},
   "outputs": [],
   "source": [
    "import csv\n"
   ]
  },
  {
   "cell_type": "code",
   "execution_count": 17,
   "metadata": {},
   "outputs": [
    {
     "ename": "FileNotFoundError",
     "evalue": "[Errno 2] No such file or directory: 'tab_delimited_stock_price.txt'",
     "output_type": "error",
     "traceback": [
      "\u001b[0;31m---------------------------------------------------------------------------\u001b[0m",
      "\u001b[0;31mFileNotFoundError\u001b[0m                         Traceback (most recent call last)",
      "\u001b[0;32m<ipython-input-17-c9bc93a0041d>\u001b[0m in \u001b[0;36m<module>\u001b[0;34m\u001b[0m\n\u001b[0;32m----> 1\u001b[0;31m \u001b[0;32mwith\u001b[0m \u001b[0mopen\u001b[0m\u001b[0;34m(\u001b[0m\u001b[0;34m'tab_delimited_stock_price.txt'\u001b[0m\u001b[0;34m,\u001b[0m\u001b[0;34m'rb'\u001b[0m\u001b[0;34m)\u001b[0m \u001b[0;32mas\u001b[0m \u001b[0mf\u001b[0m\u001b[0;34m:\u001b[0m\u001b[0;34m\u001b[0m\u001b[0;34m\u001b[0m\u001b[0m\n\u001b[0m\u001b[1;32m      2\u001b[0m     \u001b[0mreader\u001b[0m \u001b[0;34m=\u001b[0m \u001b[0mcsv\u001b[0m\u001b[0;34m.\u001b[0m\u001b[0mreader\u001b[0m\u001b[0;34m(\u001b[0m\u001b[0mf\u001b[0m\u001b[0;34m,\u001b[0m\u001b[0mdelimiter\u001b[0m \u001b[0;34m=\u001b[0m \u001b[0;34m'\\t'\u001b[0m\u001b[0;34m)\u001b[0m\u001b[0;34m\u001b[0m\u001b[0;34m\u001b[0m\u001b[0m\n\u001b[1;32m      3\u001b[0m     \u001b[0;32mfor\u001b[0m \u001b[0mrow\u001b[0m \u001b[0;32min\u001b[0m \u001b[0mreader\u001b[0m\u001b[0;34m:\u001b[0m\u001b[0;34m\u001b[0m\u001b[0;34m\u001b[0m\u001b[0m\n\u001b[1;32m      4\u001b[0m         \u001b[0mdate\u001b[0m \u001b[0;34m=\u001b[0m \u001b[0mrow\u001b[0m\u001b[0;34m[\u001b[0m\u001b[0;36m0\u001b[0m\u001b[0;34m]\u001b[0m\u001b[0;34m\u001b[0m\u001b[0;34m\u001b[0m\u001b[0m\n\u001b[1;32m      5\u001b[0m         \u001b[0msymbol\u001b[0m \u001b[0;34m=\u001b[0m \u001b[0mrow\u001b[0m\u001b[0;34m[\u001b[0m\u001b[0;36m1\u001b[0m\u001b[0;34m]\u001b[0m\u001b[0;34m\u001b[0m\u001b[0;34m\u001b[0m\u001b[0m\n",
      "\u001b[0;31mFileNotFoundError\u001b[0m: [Errno 2] No such file or directory: 'tab_delimited_stock_price.txt'"
     ]
    }
   ],
   "source": [
    "with open('tab_delimited_stock_price.txt','rb') as f:\n",
    "    reader = csv.reader( f, delimiter = '\\t')\n",
    "    for row in reader:\n",
    "        date = row[0]\n",
    "        symbol = row[1]\n",
    "        closing_price = float(row[2])\n",
    "        process(date, symbol, closing_price)"
   ]
  },
  {
   "cell_type": "code",
   "execution_count": 19,
   "metadata": {},
   "outputs": [
    {
     "ename": "FileNotFoundError",
     "evalue": "[Errno 2] No such file or directory: 'tab_delimited_stock_prices.txt'",
     "output_type": "error",
     "traceback": [
      "\u001b[0;31m---------------------------------------------------------------------------\u001b[0m",
      "\u001b[0;31mFileNotFoundError\u001b[0m                         Traceback (most recent call last)",
      "\u001b[0;32m<ipython-input-19-d443416c2f20>\u001b[0m in \u001b[0;36m<module>\u001b[0;34m\u001b[0m\n\u001b[1;32m      1\u001b[0m \u001b[0;32mimport\u001b[0m \u001b[0mcsv\u001b[0m\u001b[0;34m\u001b[0m\u001b[0;34m\u001b[0m\u001b[0m\n\u001b[0;32m----> 2\u001b[0;31m \u001b[0;32mwith\u001b[0m \u001b[0mopen\u001b[0m\u001b[0;34m(\u001b[0m\u001b[0;34m'tab_delimited_stock_prices.txt'\u001b[0m\u001b[0;34m,\u001b[0m \u001b[0;34m'rb'\u001b[0m\u001b[0;34m)\u001b[0m \u001b[0;32mas\u001b[0m \u001b[0mf\u001b[0m\u001b[0;34m:\u001b[0m\u001b[0;34m\u001b[0m\u001b[0;34m\u001b[0m\u001b[0m\n\u001b[0m\u001b[1;32m      3\u001b[0m     \u001b[0mreader\u001b[0m \u001b[0;34m=\u001b[0m \u001b[0mcsv\u001b[0m\u001b[0;34m.\u001b[0m\u001b[0mreader\u001b[0m\u001b[0;34m(\u001b[0m\u001b[0mf\u001b[0m\u001b[0;34m,\u001b[0m \u001b[0mdelimiter\u001b[0m\u001b[0;34m=\u001b[0m\u001b[0;34m'\\t'\u001b[0m\u001b[0;34m)\u001b[0m\u001b[0;34m\u001b[0m\u001b[0;34m\u001b[0m\u001b[0m\n\u001b[1;32m      4\u001b[0m \u001b[0;32mfor\u001b[0m \u001b[0mrow\u001b[0m \u001b[0;32min\u001b[0m \u001b[0mreader\u001b[0m\u001b[0;34m:\u001b[0m\u001b[0;34m\u001b[0m\u001b[0;34m\u001b[0m\u001b[0m\n\u001b[1;32m      5\u001b[0m     \u001b[0mdate\u001b[0m \u001b[0;34m=\u001b[0m \u001b[0mrow\u001b[0m\u001b[0;34m[\u001b[0m\u001b[0;36m0\u001b[0m\u001b[0;34m]\u001b[0m\u001b[0;34m\u001b[0m\u001b[0;34m\u001b[0m\u001b[0m\n",
      "\u001b[0;31mFileNotFoundError\u001b[0m: [Errno 2] No such file or directory: 'tab_delimited_stock_prices.txt'"
     ]
    }
   ],
   "source": [
    "import csv\n",
    "with open('tab_delimited_stock_prices.txt', 'rb') as f:\n",
    "    reader = csv.reader(f, delimiter='\\t')\n",
    "for row in reader:\n",
    "    date = row[0]\n",
    "    symbol = row[1]\n",
    "    closing_price = float(row[2])\n",
    "    process(date, symbol, closing_price)"
   ]
  },
  {
   "cell_type": "code",
   "execution_count": 20,
   "metadata": {},
   "outputs": [
    {
     "name": "stdout",
     "output_type": "stream",
     "text": [
      "\n",
      "The following command must be run outside of the IPython shell:\n",
      "\n",
      "    $ pip install html5lib\n",
      "\n",
      "The Python package manager (pip) can only be used from outside of IPython.\n",
      "Please reissue the `pip` command in a separate terminal or command prompt.\n",
      "\n",
      "See the Python documentation for more information on how to install packages:\n",
      "\n",
      "    https://docs.python.org/3/installing/\n"
     ]
    }
   ],
   "source": [
    "pip install html5lib"
   ]
  },
  {
   "cell_type": "code",
   "execution_count": 24,
   "metadata": {},
   "outputs": [],
   "source": [
    "from bs4 import BeautifulSoup\n",
    "import requests\n",
    "html = requests.get(\"http://www.google.com\").text\n",
    "soup = BeautifulSoup(html, 'html5lib')"
   ]
  },
  {
   "cell_type": "code",
   "execution_count": 26,
   "metadata": {},
   "outputs": [],
   "source": [
    "first_paragraph = soup.find('k') "
   ]
  },
  {
   "cell_type": "code",
   "execution_count": 27,
   "metadata": {},
   "outputs": [],
   "source": [
    "first_paragraph_text = soup.p.text\n",
    "first_paragraph_words = soup.p.text.split()"
   ]
  },
  {
   "cell_type": "code",
   "execution_count": 28,
   "metadata": {},
   "outputs": [
    {
     "ename": "KeyError",
     "evalue": "'id'",
     "output_type": "error",
     "traceback": [
      "\u001b[0;31m---------------------------------------------------------------------------\u001b[0m",
      "\u001b[0;31mKeyError\u001b[0m                                  Traceback (most recent call last)",
      "\u001b[0;32m<ipython-input-28-09fa35af39b7>\u001b[0m in \u001b[0;36m<module>\u001b[0;34m\u001b[0m\n\u001b[0;32m----> 1\u001b[0;31m \u001b[0mfirst_paragraph_id\u001b[0m \u001b[0;34m=\u001b[0m \u001b[0msoup\u001b[0m\u001b[0;34m.\u001b[0m\u001b[0mp\u001b[0m\u001b[0;34m[\u001b[0m\u001b[0;34m'id'\u001b[0m\u001b[0;34m]\u001b[0m\u001b[0;34m\u001b[0m\u001b[0;34m\u001b[0m\u001b[0m\n\u001b[0m\u001b[1;32m      2\u001b[0m \u001b[0mfirst_paragraph_id2\u001b[0m \u001b[0;34m=\u001b[0m \u001b[0msoup\u001b[0m\u001b[0;34m.\u001b[0m\u001b[0mp\u001b[0m\u001b[0;34m.\u001b[0m\u001b[0mget\u001b[0m\u001b[0;34m(\u001b[0m\u001b[0;34m'id'\u001b[0m\u001b[0;34m)\u001b[0m\u001b[0;34m\u001b[0m\u001b[0;34m\u001b[0m\u001b[0m\n",
      "\u001b[0;32m/anaconda3/lib/python3.7/site-packages/bs4/element.py\u001b[0m in \u001b[0;36m__getitem__\u001b[0;34m(self, key)\u001b[0m\n\u001b[1;32m   1069\u001b[0m         \"\"\"tag[key] returns the value of the 'key' attribute for the tag,\n\u001b[1;32m   1070\u001b[0m         and throws an exception if it's not there.\"\"\"\n\u001b[0;32m-> 1071\u001b[0;31m         \u001b[0;32mreturn\u001b[0m \u001b[0mself\u001b[0m\u001b[0;34m.\u001b[0m\u001b[0mattrs\u001b[0m\u001b[0;34m[\u001b[0m\u001b[0mkey\u001b[0m\u001b[0;34m]\u001b[0m\u001b[0;34m\u001b[0m\u001b[0;34m\u001b[0m\u001b[0m\n\u001b[0m\u001b[1;32m   1072\u001b[0m \u001b[0;34m\u001b[0m\u001b[0m\n\u001b[1;32m   1073\u001b[0m     \u001b[0;32mdef\u001b[0m \u001b[0m__iter__\u001b[0m\u001b[0;34m(\u001b[0m\u001b[0mself\u001b[0m\u001b[0;34m)\u001b[0m\u001b[0;34m:\u001b[0m\u001b[0;34m\u001b[0m\u001b[0;34m\u001b[0m\u001b[0m\n",
      "\u001b[0;31mKeyError\u001b[0m: 'id'"
     ]
    }
   ],
   "source": [
    "first_paragraph_id = soup.p['id'] \n",
    "first_paragraph_id2 = soup.p.get('id') "
   ]
  },
  {
   "cell_type": "code",
   "execution_count": 29,
   "metadata": {},
   "outputs": [],
   "source": [
    "all_paragraphs = soup.find_all('p') \n",
    "paragraphs_with_ids = [p for p in soup('p') if p.get('id')]"
   ]
  },
  {
   "cell_type": "code",
   "execution_count": 30,
   "metadata": {},
   "outputs": [],
   "source": [
    "important_paragraphs = soup('p', {'class' : 'important'})\n",
    "important_paragraphs2 = soup('p', 'important')\n",
    "important_paragraphs3 = [p for p in soup('p')\n",
    "    if 'important' in p.get('class', [])]"
   ]
  },
  {
   "cell_type": "code",
   "execution_count": 31,
   "metadata": {},
   "outputs": [],
   "source": [
    "spans_inside_divs = [span\n",
    "for div in soup('div') \n",
    "for span in div('span')]"
   ]
  },
  {
   "cell_type": "code",
   "execution_count": 32,
   "metadata": {},
   "outputs": [
    {
     "ename": "SyntaxError",
     "evalue": "invalid syntax (<ipython-input-32-180a5096a8b9>, line 1)",
     "output_type": "error",
     "traceback": [
      "\u001b[0;36m  File \u001b[0;32m\"<ipython-input-32-180a5096a8b9>\"\u001b[0;36m, line \u001b[0;32m1\u001b[0m\n\u001b[0;31m    <html>\u001b[0m\n\u001b[0m    ^\u001b[0m\n\u001b[0;31mSyntaxError\u001b[0m\u001b[0;31m:\u001b[0m invalid syntax\n"
     ]
    }
   ],
   "source": [
    "<html>\n",
    " <head>\n",
    " <title>A web page</title>\n",
    " </head>\n",
    " <body>\n",
    " <p id=\"author\">Joel Grus</p>\n",
    " <p id=\"subject\">Data Science</p>\n",
    " </body>\n",
    "</html>"
   ]
  },
  {
   "cell_type": "code",
   "execution_count": 33,
   "metadata": {},
   "outputs": [],
   "source": [
    "first_paragraph = soup.find('p') "
   ]
  },
  {
   "cell_type": "code",
   "execution_count": 34,
   "metadata": {},
   "outputs": [
    {
     "ename": "SyntaxError",
     "evalue": "invalid syntax (<ipython-input-34-117e36acba48>, line 1)",
     "output_type": "error",
     "traceback": [
      "\u001b[0;36m  File \u001b[0;32m\"<ipython-input-34-117e36acba48>\"\u001b[0;36m, line \u001b[0;32m1\u001b[0m\n\u001b[0;31m    <td class=\"thumbtext\">\u001b[0m\n\u001b[0m    ^\u001b[0m\n\u001b[0;31mSyntaxError\u001b[0m\u001b[0;31m:\u001b[0m invalid syntax\n"
     ]
    }
   ],
   "source": [
    "<td class=\"thumbtext\">\n",
    " <div class=\"thumbcontainer\">\n",
    " <div class=\"thumbdiv\">\n",
    " <a href=\"/product/9781118903407.do\">\n",
    " <img src=\"...\"/>\n",
    " </a>\n",
    " </div>\n",
    " </div>\n",
    " <div class=\"widthchange\">\n",
    " <div class=\"thumbheader\">\n",
    " <a href=\"/product/9781118903407.do\">Getting a Big Data Job For Dummies</a>\n",
    " </div>\n",
    " <div class=\"AuthorName\">By Jason Williamson</div>\n",
    " <span class=\"directorydate\"> December 2014 </span>\n",
    " <div style=\"clear:both;\">\n",
    " <div id=\"146350\">\n",
    " <span class=\"pricelabel\">\n",
    " Ebook:\n",
    " <span class=\"price\">&nbsp;$29.99</span>\n",
    " </span>\n",
    " </div>\n",
    " </div>\n",
    " </div>\n",
    "</td>\n",
    "\n"
   ]
  },
  {
   "cell_type": "code",
   "execution_count": 35,
   "metadata": {},
   "outputs": [],
   "source": [
    "class Table : \n",
    "\n",
    "    def __init__(self, columns): \n",
    "        self.columns = columns \n",
    "        self.rows = []\n",
    "        \n",
    "    def __repr__(self): \n",
    "        \"\"\"pretty representation of the table: columns then rows\"\"\" \n",
    "        return str(self.columns) + \" \\n \" + \" \\n \".join(map(str, self.rows))\n",
    "\n",
    "    def insert(self, row_values): \n",
    "        if len(row_values) != len(self.columns): \n",
    "            raise TypeError (\"wrong number of elements\") \n",
    "        row_dict = dict(zip(self.columns, row_values)) \n",
    "        self.rows.append(row_dict)"
   ]
  },
  {
   "cell_type": "code",
   "execution_count": 36,
   "metadata": {},
   "outputs": [
    {
     "ename": "SyntaxError",
     "evalue": "invalid character in identifier (<ipython-input-36-5344af657b7b>, line 6)",
     "output_type": "error",
     "traceback": [
      "\u001b[0;36m  File \u001b[0;32m\"<ipython-input-36-5344af657b7b>\"\u001b[0;36m, line \u001b[0;32m6\u001b[0m\n\u001b[0;31m    ​\u001b[0m\n\u001b[0m    ^\u001b[0m\n\u001b[0;31mSyntaxError\u001b[0m\u001b[0;31m:\u001b[0m invalid character in identifier\n"
     ]
    }
   ],
   "source": [
    "def update(self, updates, predicate): \n",
    "    for row in self.rows: \n",
    "        if predicate(row): \n",
    "            for column, new_value in updates.iteritems(): \n",
    "                row[column] = new_value\n",
    "​\n",
    "​\n",
    "users.update({'num_friends' : 3}, \n",
    "             lambda row: row['user_id'] == 1)"
   ]
  },
  {
   "cell_type": "code",
   "execution_count": 38,
   "metadata": {},
   "outputs": [
    {
     "ename": "IndentationError",
     "evalue": "unindent does not match any outer indentation level (<tokenize>, line 5)",
     "output_type": "error",
     "traceback": [
      "\u001b[0;36m  File \u001b[0;32m\"<tokenize>\"\u001b[0;36m, line \u001b[0;32m5\u001b[0m\n\u001b[0;31m    users.delete( lambda row: row[\"user_id\"] == 1)\u001b[0m\n\u001b[0m    ^\u001b[0m\n\u001b[0;31mIndentationError\u001b[0m\u001b[0;31m:\u001b[0m unindent does not match any outer indentation level\n"
     ]
    }
   ],
   "source": [
    "def delete(self, predicate= lambda row: True):\n",
    "        \"\"\"delete all rows matching predicate \n",
    "        or all rows if no predicate supplied\"\"\"\n",
    "        self.rows = [row for row in self.rows if not (predicate(row))]\n",
    "    users.delete( lambda row: row[\"user_id\"] == 1) \n",
    "    users.delete()"
   ]
  },
  {
   "cell_type": "code",
   "execution_count": 39,
   "metadata": {},
   "outputs": [
    {
     "ename": "IndentationError",
     "evalue": "unexpected indent (<ipython-input-39-c1eef8462a4f>, line 35)",
     "output_type": "error",
     "traceback": [
      "\u001b[0;36m  File \u001b[0;32m\"<ipython-input-39-c1eef8462a4f>\"\u001b[0;36m, line \u001b[0;32m35\u001b[0m\n\u001b[0;31m    .select(keep_columns=[\"user_id\"])\u001b[0m\n\u001b[0m    ^\u001b[0m\n\u001b[0;31mIndentationError\u001b[0m\u001b[0;31m:\u001b[0m unexpected indent\n"
     ]
    }
   ],
   "source": [
    "def select(self, keep_columns=None, additional_columns=None): \n",
    "    if keep_columns is None: \n",
    "        keep_columns = self.columns\n",
    "    if additional_columns is None: \n",
    "        additional_columns = {}\n",
    "\n",
    "    result_table = Table(keep_columns + additional_columns.keys())\n",
    "\n",
    "    for row in self.rows: \n",
    "        new_row = [row[column] for column in keep_columns] \n",
    "        for column_name, calculation in additional_columns.iteritems(): \n",
    "            new_row.append(calculation(row)) \n",
    "        result_table.insert(new_row) \n",
    "    return result_table\n",
    "\n",
    "def where(self, predicate= lambda row: True): \n",
    "    \"\"\"return only the rows that satisfy the supplied predicate\"\"\" \n",
    "    where_table = Table(self.columns) \n",
    "    where_table.rows = filter(predicate, self.rows) \n",
    "    return where_table\n",
    "\n",
    "\n",
    "def limit(self, num_rows): \n",
    "    \"\"\"return only the first num_rows rows\"\"\" \n",
    "    limit_table = Table(self.columns) \n",
    "    limit_table.rows = self.rows[:num_rows] \n",
    "    return limit_table\n",
    "\n",
    "\n",
    "users.select()\n",
    "users.limit(2)\n",
    "users.select(keep_columns=[\"user_id\"])\n",
    "\n",
    "users.where( lambda row: row[\"name\"] == \"Dunn\") \n",
    "     .select(keep_columns=[\"user_id\"])\n",
    "\n",
    "def name_length(row): return len(row[\"name\"]): \n",
    "users.select(keep_columns=[], \n",
    "             additional_columns = { \"name_length\" : name_length })"
   ]
  },
  {
   "cell_type": "code",
   "execution_count": 40,
   "metadata": {},
   "outputs": [
    {
     "ename": "SyntaxError",
     "evalue": "unexpected character after line continuation character (<ipython-input-40-f1cebe43424a>, line 19)",
     "output_type": "error",
     "traceback": [
      "\u001b[0;36m  File \u001b[0;32m\"<ipython-input-40-f1cebe43424a>\"\u001b[0;36m, line \u001b[0;32m19\u001b[0m\n\u001b[0;31m    stats_by_length = users \\\u001b[0m\n\u001b[0m                              ^\u001b[0m\n\u001b[0;31mSyntaxError\u001b[0m\u001b[0;31m:\u001b[0m unexpected character after line continuation character\n"
     ]
    }
   ],
   "source": [
    "def group_by(self, group_by_columns, aggregates, having=None): \n",
    "    grouped_rows = defaultdict(list) # populate groups \n",
    "    for row in self.rows: \n",
    "        key = tuple(row[column] for column in group_by_columns) \n",
    "        grouped_rows[key].append(row) \n",
    "        \n",
    "        result_table = Table(group_by_columns + aggregates.keys()) \n",
    "        \n",
    "        for key, rows in grouped_rows.iteritems(): \n",
    "            if having is None or having(rows): \n",
    "                new_row = list(key) \n",
    "                for aggregate_name, aggregate_fn in aggregates.iteritems(): \n",
    "                    new_row.append(aggregate_fn(rows)) \n",
    "                    result_table.insert(new_row)\n",
    "                    \n",
    "        return result_table \n",
    "    \n",
    "def min_user_id(rows): return min(row[\"user_id\"] for row in rows)\n",
    "stats_by_length = users \\ \n",
    "    .select(additional_columns={\"name_length\" : name_length}) \\ \n",
    "    .group_by(group_by_columns=[\"name_length\"],\n",
    "              aggregates={ \"min_user_id\" : min_user_id, \n",
    "                           \"num_users\" : len })\n",
    "\n",
    "def first_letter_of_name(row): \n",
    "    return row[\"name\"][0] if row[\"name\"] else \"\"\n",
    "\n",
    "def average_num_friends(rows): \n",
    "    return sum(row[\"num_friends\"] for row in rows) / len(rows)\n",
    "\n",
    "def enough_friends(rows): \n",
    "    return average_num_friends(rows) > 1\n",
    "\n",
    "\n",
    "avg_friends_by_letter = users \\ \n",
    "    .select(additional_columns={'first_letter' : first_letter_of_name}) \\ \n",
    "    .group_by(group_by_columns=['first_letter'], \n",
    "              aggregates={ \"avg_num_friends\" : average_num_friends }, \n",
    "              having=enough_friends)\n",
    "\n",
    "\n",
    "def sum_user_ids(rows): return sum(row[\"user_id\"] for row in rows) \n",
    "user_id_sum = users \\ \n",
    "    .where( lambda row: row[\"user_id\"] > 1) \\ \n",
    "    .group_by(group_by_columns=[], \n",
    "              aggregates={ \"user_id_sum\" : sum_user_ids })"
   ]
  },
  {
   "cell_type": "code",
   "execution_count": 41,
   "metadata": {},
   "outputs": [
    {
     "ename": "SyntaxError",
     "evalue": "unexpected character after line continuation character (<ipython-input-41-ce17878874e4>, line 8)",
     "output_type": "error",
     "traceback": [
      "\u001b[0;36m  File \u001b[0;32m\"<ipython-input-41-ce17878874e4>\"\u001b[0;36m, line \u001b[0;32m8\u001b[0m\n\u001b[0;31m    friendliest_letters = avg_friends_by_letter \\\u001b[0m\n\u001b[0m                                                  ^\u001b[0m\n\u001b[0;31mSyntaxError\u001b[0m\u001b[0;31m:\u001b[0m unexpected character after line continuation character\n"
     ]
    }
   ],
   "source": [
    "#order by\n",
    "\n",
    "def order_by(self, order): \n",
    "    new_table = self.select() \n",
    "    new_table.rows.sort(key=order) \n",
    "    return new_table\n",
    "\n",
    "friendliest_letters = avg_friends_by_letter \\ \n",
    "    .order_by( lambda row: -row[\"avg_num_friends\"]) \\\n",
    "    .limit(4)"
   ]
  },
  {
   "cell_type": "code",
   "execution_count": 42,
   "metadata": {},
   "outputs": [
    {
     "ename": "SyntaxError",
     "evalue": "invalid character in identifier (<ipython-input-42-ab840f5d5a3e>, line 2)",
     "output_type": "error",
     "traceback": [
      "\u001b[0;36m  File \u001b[0;32m\"<ipython-input-42-ab840f5d5a3e>\"\u001b[0;36m, line \u001b[0;32m2\u001b[0m\n\u001b[0;31m    ​\u001b[0m\n\u001b[0m    ^\u001b[0m\n\u001b[0;31mSyntaxError\u001b[0m\u001b[0;31m:\u001b[0m invalid character in identifier\n"
     ]
    }
   ],
   "source": [
    "#join\n",
    "​\n",
    "def join(self, other_table, left_join=False): \n",
    "    join_on_columns = [c for c in self.columns \n",
    "                       if c in other_table.columns]\n",
    "    \n",
    "    additional_columns = [c for c in other_table.columns  \n",
    "                          if c not in join_on_columns]\n",
    "    \n",
    "    join_table = Table(self.columns + additional_columns) \n",
    "    for row in self.rows: \n",
    "        def is_join(other_row): \n",
    "            return all(other_row[c] == row[c] for c in join_on_columns) \n",
    "        other_rows = other_table.where(is_join).rows\n",
    "        \n",
    "        for other_row in other_rows: \n",
    "            join_table.insert([row[c] for c in self.columns] + \n",
    "                              [other_row[c] for c in additional_columns])\n",
    "            \n",
    "        if left_join and not other_rows: \n",
    "            join_table.insert([row[c] for c in self.columns] +\n",
    "                              \n",
    "                              [None for c in additional_columns])\n",
    "        return join_table\n",
    "​\n",
    "sql_users = users \\ \n",
    "    .join(user_interests) \\ \n",
    "    .where( lambda row: row[\"interest\"] == \"SQL\") \\ \n",
    "    .select(keep_columns=[\"name\"])"
   ]
  },
  {
   "cell_type": "code",
   "execution_count": 43,
   "metadata": {},
   "outputs": [
    {
     "ename": "SyntaxError",
     "evalue": "unexpected character after line continuation character (<ipython-input-43-71929274e800>, line 3)",
     "output_type": "error",
     "traceback": [
      "\u001b[0;36m  File \u001b[0;32m\"<ipython-input-43-71929274e800>\"\u001b[0;36m, line \u001b[0;32m3\u001b[0m\n\u001b[0;31m    likes_sql_user_ids = user_interests \\\u001b[0m\n\u001b[0m                                          ^\u001b[0m\n\u001b[0;31mSyntaxError\u001b[0m\u001b[0;31m:\u001b[0m unexpected character after line continuation character\n"
     ]
    }
   ],
   "source": [
    "#subquires\n",
    "\n",
    "likes_sql_user_ids = user_interests \\ \n",
    "    .where( lambda row: row[\"interest\"] == \"SQL\") \\ \n",
    "    .select(keep_columns=['user_id']) \n",
    "\n",
    "likes_sql_user_ids.group_by(group_by_columns=[], \n",
    "                            aggregates={ \"min_user_id\" : min_user_id })"
   ]
  },
  {
   "cell_type": "code",
   "execution_count": 44,
   "metadata": {},
   "outputs": [
    {
     "ename": "SyntaxError",
     "evalue": "unexpected character after line continuation character (<ipython-input-44-bdf280e763d2>, line 4)",
     "output_type": "error",
     "traceback": [
      "\u001b[0;36m  File \u001b[0;32m\"<ipython-input-44-bdf280e763d2>\"\u001b[0;36m, line \u001b[0;32m4\u001b[0m\n\u001b[0;31m    .join(users) \\\u001b[0m\n\u001b[0m                   ^\u001b[0m\n\u001b[0;31mSyntaxError\u001b[0m\u001b[0;31m:\u001b[0m unexpected character after line continuation character\n"
     ]
    }
   ],
   "source": [
    "#Query Optimization\n",
    "\n",
    "user_interests \\\n",
    "     .join(users) \\ \n",
    "     .where( lambda row: row[\"interest\"] == \"SQL\") \\ \n",
    "     .select([\"name\"])"
   ]
  },
  {
   "cell_type": "code",
   "execution_count": 45,
   "metadata": {},
   "outputs": [
    {
     "ename": "SyntaxError",
     "evalue": "invalid character in identifier (<ipython-input-45-c28a3938de34>, line 2)",
     "output_type": "error",
     "traceback": [
      "\u001b[0;36m  File \u001b[0;32m\"<ipython-input-45-c28a3938de34>\"\u001b[0;36m, line \u001b[0;32m2\u001b[0m\n\u001b[0;31m    ​\u001b[0m\n\u001b[0m    ^\u001b[0m\n\u001b[0;31mSyntaxError\u001b[0m\u001b[0;31m:\u001b[0m invalid character in identifier\n"
     ]
    }
   ],
   "source": [
    "import sys, re\n",
    "​\n",
    "regex = sys.argv[1]\n",
    "​\n",
    "for line in sys.stdin:  \n",
    "​\n",
    "    if re.search(regex, line):       \n",
    "​\n",
    "        sys.stdout.write(line)\n",
    "        \n",
    "count = 0\n",
    "​\n",
    "for line in sys.stdin:   \n",
    "​\n",
    "    count += 1\n",
    "​\n",
    "# print goes to sys.stdout\n",
    "​\n",
    "print (count)"
   ]
  },
  {
   "cell_type": "code",
   "execution_count": 46,
   "metadata": {},
   "outputs": [
    {
     "ename": "FileNotFoundError",
     "evalue": "[Errno 2] No such file or directory: 'test.txt'",
     "output_type": "error",
     "traceback": [
      "\u001b[0;31m---------------------------------------------------------------------------\u001b[0m",
      "\u001b[0;31mFileNotFoundError\u001b[0m                         Traceback (most recent call last)",
      "\u001b[0;32m<ipython-input-46-724addef5869>\u001b[0m in \u001b[0;36m<module>\u001b[0;34m\u001b[0m\n\u001b[1;32m      1\u001b[0m \u001b[0;31m# this function is only to display the txt file for reading because the 'r' is for reading.\u001b[0m\u001b[0;34m\u001b[0m\u001b[0;34m\u001b[0m\u001b[0;34m\u001b[0m\u001b[0m\n\u001b[0;32m----> 2\u001b[0;31m \u001b[0mfile_for_reading\u001b[0m \u001b[0;34m=\u001b[0m \u001b[0mopen\u001b[0m\u001b[0;34m(\u001b[0m\u001b[0;34m'test.txt'\u001b[0m\u001b[0;34m,\u001b[0m \u001b[0;34m'r'\u001b[0m\u001b[0;34m)\u001b[0m\u001b[0;34m\u001b[0m\u001b[0;34m\u001b[0m\u001b[0m\n\u001b[0m\u001b[1;32m      3\u001b[0m \u001b[0mprint\u001b[0m\u001b[0;34m(\u001b[0m\u001b[0mfile_for_reading\u001b[0m\u001b[0;34m.\u001b[0m\u001b[0mread\u001b[0m\u001b[0;34m(\u001b[0m\u001b[0;34m)\u001b[0m\u001b[0;34m)\u001b[0m\u001b[0;34m\u001b[0m\u001b[0;34m\u001b[0m\u001b[0m\n\u001b[1;32m      4\u001b[0m \u001b[0mfile_for_reading\u001b[0m\u001b[0;34m.\u001b[0m\u001b[0mclose\u001b[0m\u001b[0;34m(\u001b[0m\u001b[0;34m)\u001b[0m\u001b[0;34m\u001b[0m\u001b[0;34m\u001b[0m\u001b[0m\n",
      "\u001b[0;31mFileNotFoundError\u001b[0m: [Errno 2] No such file or directory: 'test.txt'"
     ]
    }
   ],
   "source": [
    "# this function is only to display the txt file for reading because the 'r' is for reading. \n",
    "file_for_reading = open('test.txt', 'r')\n",
    "print(file_for_reading.read())\n",
    "file_for_reading.close()"
   ]
  },
  {
   "cell_type": "code",
   "execution_count": 47,
   "metadata": {},
   "outputs": [
    {
     "ename": "FileNotFoundError",
     "evalue": "[Errno 2] No such file or directory: 'www.txt'",
     "output_type": "error",
     "traceback": [
      "\u001b[0;31m---------------------------------------------------------------------------\u001b[0m",
      "\u001b[0;31mFileNotFoundError\u001b[0m                         Traceback (most recent call last)",
      "\u001b[0;32m<ipython-input-47-1dd40538765c>\u001b[0m in \u001b[0;36m<module>\u001b[0;34m\u001b[0m\n\u001b[1;32m      2\u001b[0m \u001b[0;32mimport\u001b[0m \u001b[0mcsv\u001b[0m\u001b[0;34m\u001b[0m\u001b[0;34m\u001b[0m\u001b[0m\n\u001b[1;32m      3\u001b[0m \u001b[0;34m\u001b[0m\u001b[0m\n\u001b[0;32m----> 4\u001b[0;31m \u001b[0;32mwith\u001b[0m \u001b[0mopen\u001b[0m\u001b[0;34m(\u001b[0m\u001b[0;34m'www.txt'\u001b[0m\u001b[0;34m,\u001b[0m \u001b[0;34m'rb'\u001b[0m\u001b[0;34m)\u001b[0m \u001b[0;32mas\u001b[0m \u001b[0mf\u001b[0m\u001b[0;34m:\u001b[0m\u001b[0;34m\u001b[0m\u001b[0;34m\u001b[0m\u001b[0m\n\u001b[0m\u001b[1;32m      5\u001b[0m     \u001b[0mreader\u001b[0m \u001b[0;34m=\u001b[0m \u001b[0mcsv\u001b[0m\u001b[0;34m.\u001b[0m\u001b[0mreader\u001b[0m\u001b[0;34m(\u001b[0m\u001b[0mf\u001b[0m\u001b[0;34m,\u001b[0m \u001b[0mdelimiter\u001b[0m\u001b[0;34m=\u001b[0m \u001b[0;34m\",\"\u001b[0m\u001b[0;34m)\u001b[0m\u001b[0;34m\u001b[0m\u001b[0;34m\u001b[0m\u001b[0m\n\u001b[1;32m      6\u001b[0m     \u001b[0;32mfor\u001b[0m \u001b[0mrow\u001b[0m \u001b[0;32min\u001b[0m \u001b[0mreader\u001b[0m\u001b[0;34m:\u001b[0m\u001b[0;34m\u001b[0m\u001b[0;34m\u001b[0m\u001b[0m\n",
      "\u001b[0;31mFileNotFoundError\u001b[0m: [Errno 2] No such file or directory: 'www.txt'"
     ]
    }
   ],
   "source": [
    "#Delimited Files\n",
    "import csv  \n",
    "\n",
    "with open('www.txt', 'rb') as f: \n",
    "    reader = csv.reader(f, delimiter= \",\") \n",
    "    for row in reader: \n",
    "        date = row[0] \n",
    "        symbol = row[1] \n",
    "        closing_price = float(row[2]) \n",
    "        process(date, symbol, closing_price)\n",
    "        \n",
    "with open('www.txt', 'r') as f:\n",
    "    reader = csv.reader(f) \n",
    "    for row in reader:\n",
    "        print(row)  "
   ]
  },
  {
   "cell_type": "code",
   "execution_count": 48,
   "metadata": {},
   "outputs": [
    {
     "name": "stdout",
     "output_type": "stream",
     "text": [
      "\n",
      "                            Pete Hegseth told \"Fox and Friends\" that he hadn't washed his hands in 10 years because \"germs are not a real thing\" but reversed course after Twitter backlash.\n",
      "\n",
      "['Pete', 'Hegseth', 'told', '\"Fox', 'and', 'Friends\"', 'that', 'he', \"hadn't\", 'washed', 'his', 'hands', 'in', '10', 'years', 'because', '\"germs', 'are', 'not', 'a', 'real', 'thing\"', 'but', 'reversed', 'course', 'after', 'Twitter', 'backlash.']\n"
     ]
    }
   ],
   "source": [
    "from bs4 import BeautifulSoup \n",
    "\n",
    "import requests\n",
    "\n",
    "html = requests.get(\"http://www.yahoo.com\").text \n",
    "soup = BeautifulSoup(html, 'html5lib')\n",
    "\n",
    "first_paragraph_text = soup.p.text \n",
    "first_paragraph_words = soup.p.text.split()\n",
    "\n",
    "print(first_paragraph_text)\n",
    "print(first_paragraph_words)"
   ]
  },
  {
   "cell_type": "code",
   "execution_count": 49,
   "metadata": {},
   "outputs": [
    {
     "name": "stdout",
     "output_type": "stream",
     "text": [
      "{'title': 'Data Science Book', 'author': 'Joel Grus', 'publicationYear': 2014, 'topics': ['data', 'science', 'data science']}\n"
     ]
    }
   ],
   "source": [
    "import json\n",
    "serialized = \"\"\"{ \"title\" : \"Data Science Book\", \n",
    "                  \"author\" : \"Joel Grus\", \n",
    "                  \"publicationYear\" : 2014, \n",
    "                  \"topics\" : [ \"data\", \"science\", \"data science\"] }\"\"\"\n",
    "\n",
    "deserialized = json.loads(serialized) \n",
    "if \"data science\" in deserialized[\"topics\"]: \n",
    "    print(deserialized)"
   ]
  },
  {
   "cell_type": "code",
   "execution_count": 50,
   "metadata": {},
   "outputs": [],
   "source": [
    "import requests , json \n",
    "endpoint = \"https://api.github.com/users/joelgrus/repos\" \n",
    "repos = json.loads(requests.get(endpoint).text)"
   ]
  },
  {
   "cell_type": "markdown",
   "metadata": {},
   "source": [
    "Lesson-4:\n",
    "\n",
    "With the strings below, try writing a pattern that matches only the live animals (hog, dog, but not bog).\n",
    "Notice how most patterns of this type can also be written using the technique from the last lesson as they are really two sides of the same coin. By having both choices, you can decide which one is easier to write and understand when composing your own patterns."
   ]
  },
  {
   "cell_type": "markdown",
   "metadata": {},
   "source": [
    "With the strings below, try writing a pattern that matches only the live animals (hog, dog, but not bog). \n",
    "Notice how most patterns of this type can also be written using the technique from the last lesson as they are really two sides of the same coin.\n",
    "By having both choices, you can decide which one is easier to write and understand when composing your own patterns."
   ]
  },
  {
   "cell_type": "markdown",
   "metadata": {},
   "source": [
    "Output:- [^bog]"
   ]
  }
 ],
 "metadata": {
  "kernelspec": {
   "display_name": "Python 3",
   "language": "python",
   "name": "python3"
  },
  "language_info": {
   "codemirror_mode": {
    "name": "ipython",
    "version": 3
   },
   "file_extension": ".py",
   "mimetype": "text/x-python",
   "name": "python",
   "nbconvert_exporter": "python",
   "pygments_lexer": "ipython3",
   "version": "3.7.1"
  }
 },
 "nbformat": 4,
 "nbformat_minor": 2
}
